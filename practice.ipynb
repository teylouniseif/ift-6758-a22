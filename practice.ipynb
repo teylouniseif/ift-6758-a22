{
 "cells": [
  {
   "cell_type": "code",
   "execution_count": 1,
   "metadata": {},
   "outputs": [
    {
     "ename": "ModuleNotFoundError",
     "evalue": "No module named 'question5'",
     "output_type": "error",
     "traceback": [
      "\u001b[1;31m---------------------------------------------------------------------------\u001b[0m",
      "\u001b[1;31mModuleNotFoundError\u001b[0m                       Traceback (most recent call last)",
      "\u001b[1;32mc:\\Users\\jager\\OneDrive\\Bureau\\Uni\\udem\\DataScience\\Devoir1\\ift-6758-a22\\practice.ipynb Cellule 1\u001b[0m in \u001b[0;36m<cell line: 4>\u001b[1;34m()\u001b[0m\n\u001b[0;32m      <a href='vscode-notebook-cell:/c%3A/Users/jager/OneDrive/Bureau/Uni/udem/DataScience/Devoir1/ift-6758-a22/practice.ipynb#W6sZmlsZQ%3D%3D?line=1'>2</a>\u001b[0m \u001b[39mfrom\u001b[39;00m \u001b[39mquestion1\u001b[39;00m \u001b[39mimport\u001b[39;00m \u001b[39m*\u001b[39m\n\u001b[0;32m      <a href='vscode-notebook-cell:/c%3A/Users/jager/OneDrive/Bureau/Uni/udem/DataScience/Devoir1/ift-6758-a22/practice.ipynb#W6sZmlsZQ%3D%3D?line=2'>3</a>\u001b[0m \u001b[39mfrom\u001b[39;00m \u001b[39mquestion4\u001b[39;00m \u001b[39mimport\u001b[39;00m \u001b[39m*\u001b[39m\n\u001b[1;32m----> <a href='vscode-notebook-cell:/c%3A/Users/jager/OneDrive/Bureau/Uni/udem/DataScience/Devoir1/ift-6758-a22/practice.ipynb#W6sZmlsZQ%3D%3D?line=3'>4</a>\u001b[0m \u001b[39mfrom\u001b[39;00m \u001b[39mquestion5\u001b[39;00m \u001b[39mimport\u001b[39;00m \u001b[39m*\u001b[39m\n\u001b[0;32m      <a href='vscode-notebook-cell:/c%3A/Users/jager/OneDrive/Bureau/Uni/udem/DataScience/Devoir1/ift-6758-a22/practice.ipynb#W6sZmlsZQ%3D%3D?line=4'>5</a>\u001b[0m \u001b[39mimport\u001b[39;00m \u001b[39mmatplotlib\u001b[39;00m\u001b[39m.\u001b[39;00m\u001b[39mpyplot\u001b[39;00m \u001b[39mas\u001b[39;00m \u001b[39mplt\u001b[39;00m\n\u001b[0;32m      <a href='vscode-notebook-cell:/c%3A/Users/jager/OneDrive/Bureau/Uni/udem/DataScience/Devoir1/ift-6758-a22/practice.ipynb#W6sZmlsZQ%3D%3D?line=5'>6</a>\u001b[0m \u001b[39mimport\u001b[39;00m \u001b[39mseaborn\u001b[39;00m \u001b[39mas\u001b[39;00m \u001b[39msns\u001b[39;00m\n",
      "\u001b[1;31mModuleNotFoundError\u001b[0m: No module named 'question5'"
     ]
    }
   ],
   "source": [
    "import pandas as pd\n",
    "from question1 import *\n",
    "from question4 import *\n",
    "from question5 import *\n",
    "import matplotlib.pyplot as plt\n",
    "import seaborn as sns"
   ]
  },
  {
   "cell_type": "code",
   "execution_count": null,
   "metadata": {},
   "outputs": [],
   "source": [
    "get_play_by_play_season_gameType(\"2018\",\"02\",\"data_saved/play_by_play\")\n",
    "get_play_by_play_season_gameType(\"2018\",\"03\",\"data_saved/play_by_play\")\n",
    "get_play_by_play_season_gameType(\"2019\",\"02\",\"data_saved/play_by_play\")\n",
    "get_play_by_play_season_gameType(\"2019\",\"03\",\"data_saved/play_by_play\")\n",
    "get_play_by_play_season_gameType(\"2020\",\"02\",\"data_saved/play_by_play\")\n",
    "get_play_by_play_season_gameType(\"2020\",\"03\",\"data_saved/play_by_play\")"
   ]
  },
  {
   "cell_type": "code",
   "execution_count": null,
   "metadata": {},
   "outputs": [],
   "source": [
    "directory2018 = r'data_saved/play_by_play/2018'\n",
    "directory2019 = r'data_saved/play_by_play/2019'\n",
    "directory2020 = r'data_saved/play_by_play/2020'\n",
    "df2018 = create_full_df(directory=directory2018)\n",
    "df2019 = create_full_df(directory=directory2019)\n",
    "df2020 = create_full_df(directory=directory2020)"
   ]
  },
  {
   "cell_type": "code",
   "execution_count": null,
   "metadata": {},
   "outputs": [],
   "source": [
    "splitDF18 = split_DF_by_Distances(df2018)\n",
    "chances18 = get_Chances_Goal(splitDF18)\n",
    "splitDF19 = split_DF_by_Distances(df2019)\n",
    "chances19 = get_Chances_Goal(splitDF19)\n",
    "splitDF20 = split_DF_by_Distances(df2020)\n",
    "chances20 = get_Chances_Goal(splitDF20)"
   ]
  },
  {
   "cell_type": "code",
   "execution_count": null,
   "metadata": {},
   "outputs": [],
   "source": [
    "print(len(chances20))"
   ]
  },
  {
   "cell_type": "code",
   "execution_count": null,
   "metadata": {},
   "outputs": [],
   "source": [
    "xAxis18 = ['[0,5[','[5,10[','[10,15[','[15,20[','[20,25[','[25,30[','[30,35[','[35,40[','[40,45[','[45,50[','[50,55[','[55,60[',\n",
    "         '[60,65[','[65,70[','[70,75[','[75,80[','[80,85[','[85,90[','[90,95[','[95,100[','[100,105[','[105,110[','[110,115[',\n",
    "         '[115,120[','[120,125[','[125,130[','[130,135[','[135,140[','[140,145[','[145,150[','[150,155[','[155,160[',\n",
    "         '[160,165[','[165,170[','[170,175[','[175,180[','[180,185[','[185,190[','[190,195[','[195,200[']\n",
    "xAxis1920 = ['[0,5[','[5,10[','[10,15[','[15,20[','[20,25[','[25,30[','[30,35[','[35,40[','[40,45[','[45,50[','[50,55[','[55,60[',\n",
    "         '[60,65[','[65,70[','[70,75[','[75,80[','[80,85[','[85,90[','[90,95[','[95,100[','[100,105[','[105,110[','[110,115[',\n",
    "         '[115,120[','[120,125[','[125,130[','[130,135[','[135,140[','[140,145[','[145,150[','[150,155[','[155,160[',\n",
    "         '[160,165[','[165,170[','[170,175[','[175,180[','[180,185[','[185,190[','[190,195[']"
   ]
  },
  {
   "cell_type": "code",
   "execution_count": null,
   "metadata": {},
   "outputs": [],
   "source": [
    "plt.figure(figsize=(12, 3))\n",
    "plt.bar(range(len(xAxis18)), chances18, align='edge', width=0.3)\n",
    "plt.xticks(range(len(xAxis18)), xAxis18, rotation='vertical')\n",
    "plt.xlabel(\"Distance from the net (in feet) the shot was taken from\")\n",
    "plt.ylabel(\"Probability of the shot being a goal\")\n",
    "plt.title(\"Probability of a shot being a goal given the distance from the net for season 2018-2019\")\n",
    "plt.show()"
   ]
  },
  {
   "cell_type": "code",
   "execution_count": null,
   "metadata": {},
   "outputs": [],
   "source": [
    "plt.figure(figsize=(12, 3))\n",
    "plt.bar(range(len(xAxis1920)), chances19, align='edge', width=0.3)\n",
    "plt.xticks(range(len(xAxis1920)), xAxis1920, rotation='vertical')\n",
    "plt.xlabel(\"Distance from the net (in feet) the shot was taken from\")\n",
    "plt.ylabel(\"Probability of the shot being a goal\")\n",
    "plt.title(\"Probability of a shot being a goal given the distance from the net for season 2019-2020\")\n",
    "plt.show()"
   ]
  },
  {
   "cell_type": "code",
   "execution_count": null,
   "metadata": {},
   "outputs": [],
   "source": [
    "plt.figure(figsize=(12, 3))\n",
    "plt.bar(range(len(xAxis1920)), chances20, align='edge', width=0.3)\n",
    "plt.xticks(range(len(xAxis1920)), xAxis1920, rotation='vertical')\n",
    "plt.xlabel(\"Distance from the net (in feet) the shot was taken from\")\n",
    "plt.ylabel(\"Probability of the shot being a goal\")\n",
    "plt.title(\"Probability of a shot being a goal given the distance from the net for season 2020-2021\")\n",
    "plt.show()"
   ]
  }
 ],
 "metadata": {
  "kernelspec": {
   "display_name": "Python ('ds_hw2')",
   "language": "python",
   "name": "python3"
  },
  "language_info": {
   "codemirror_mode": {
    "name": "ipython",
    "version": 3
   },
   "file_extension": ".py",
   "mimetype": "text/x-python",
   "name": "python",
   "nbconvert_exporter": "python",
   "pygments_lexer": "ipython3",
   "version": "3.10.4"
  },
  "orig_nbformat": 4,
  "vscode": {
   "interpreter": {
    "hash": "25a19fbe0a9132dfb9279d48d161753c6352f8f9478c2e74383d340069b907c3"
   }
  }
 },
 "nbformat": 4,
 "nbformat_minor": 2
}
