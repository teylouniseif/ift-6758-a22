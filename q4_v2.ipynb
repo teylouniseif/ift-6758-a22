{
 "cells": [
  {
   "cell_type": "code",
   "execution_count": 1,
   "metadata": {},
   "outputs": [],
   "source": [
    "import pandas as pd"
   ]
  },
  {
   "cell_type": "code",
   "execution_count": null,
   "metadata": {},
   "outputs": [],
   "source": [
    "from milestone1.question1 import get_play_by_play_season_gameType\n",
    "get_play_by_play_season_gameType(\"2015\",\"02\",\"milestone1/data_saved/play_by_play\")\n",
    "# get_play_by_play_season_gameType(\"2015\",\"03\",\"milestone1/data_saved/play_by_play\")\n",
    "get_play_by_play_season_gameType(\"2016\",\"02\",\"milestone1/data_saved/play_by_play\")\n",
    "# get_play_by_play_season_gameType(\"2016\",\"03\",\"milestone1/data_saved/play_by_play\")\n",
    "get_play_by_play_season_gameType(\"2017\",\"02\",\"milestone1/data_saved/play_by_play\")\n",
    "# get_play_by_play_season_gameType(\"2017\",\"03\",\"milestone1/data_saved/play_by_play\")\n",
    "get_play_by_play_season_gameType(\"2018\",\"02\",\"milestone1/data_saved/play_by_play\")\n",
    "# get_play_by_play_season_gameType(\"2018\",\"03\",\"milestone1/data_saved/play_by_play\")\n",
    "get_play_by_play_season_gameType(\"2019\",\"02\",\"milestone1/data_saved/play_by_play\")\n",
    "# get_play_by_play_season_gameType(\"2019\",\"03\",\"milestone1/data_saved/play_by_play\")\n"
   ]
  },
  {
   "cell_type": "code",
   "execution_count": 2,
   "metadata": {},
   "outputs": [],
   "source": [
    "from milestone1.question4 import *\n",
    "\n",
    "#les donnes des saisons régulière  seulement!\n",
    "directory2015 = r'data_saved/play_by_play/2015/regular'\n",
    "directory2016 = r'data_saved/play_by_play/2016/regular'\n",
    "directory2017 = r'data_saved/play_by_play/2017/regular'\n",
    "directory2018 = r'data_saved/play_by_play/2018/regular'\n",
    "directory2019 = r'data_saved/play_by_play/2019/regular'\n",
    "\n",
    "\n",
    "df2015 = create_full_df(directory=directory2015)\n",
    "df2016 = create_full_df(directory=directory2016)\n",
    "df2017 = create_full_df(directory=directory2017)\n",
    "df2018 = create_full_df(directory=directory2018)\n",
    "\n",
    "# 2019/20 comme l' ensemble final des données test.\n",
    "df2019 = create_full_df(directory=directory2019)\n",
    "\n"
   ]
  },
  {
   "cell_type": "code",
   "execution_count": 3,
   "metadata": {},
   "outputs": [],
   "source": [
    "df15_16 = pd.concat([df2015, df2016], ignore_index=True)\n",
    "df17_18 = pd.concat([df2017, df2018], ignore_index=True)\n",
    "\n",
    "#utilise les données 2015/16 - 2018/19 de la saison régulière pour créer vos ensembles d'entraînement et de validation.\n",
    "df_train_val =  pd.concat([df15_16, df17_18], ignore_index=True)"
   ]
  },
  {
   "cell_type": "markdown",
   "metadata": {},
   "source": [
    "## Créer une datafame contenant toutes les caractéristiques que nous avons créées dans la Partie 4\n",
    "C’est-à-dire:\n",
    "\n",
    "●\tSecondes de jeu (Game seconds)\n",
    "\n",
    "●\tPériode de jeu (Game period) \n",
    "\n",
    "●\tCoordonnées (x,y, colonnes séparées) \n",
    "\n",
    "●\tDistance de tir (Shot distance) \n",
    "\n",
    "●\tAngle de tir (Shot angle) \n",
    "\n",
    "●\tType de tir (Shot type) \n",
    "\n",
    "●\tDernier type d'événement (Last event type) \n",
    "\n",
    "●\tCoordonnées du dernier événement (x, y, colonnes séparées) \n",
    "\n",
    "●\tTemps écoulé depuis le dernier événement (secondes)  \n",
    "\n",
    "●\tDistance depuis le dernier événement (Distance from the last event) \n",
    "\n",
    "●\tRebond (bool) : Vrai si le dernier événement était aussi un tir, sinon False\n",
    "\n",
    "●\tChangement d'angle de tir: Inclure seulement si le tir est un rebond, sinon 0. \n",
    "\n",
    "●\t«Vitesse» : définie comme la distance depuis l'événement précédent, divisée par le temps écoulé depuis l'événement précédent. \n",
    "\n",
    "\n"
   ]
  },
  {
   "cell_type": "code",
   "execution_count": 5,
   "metadata": {},
   "outputs": [
    {
     "name": "stdout",
     "output_type": "stream",
     "text": [
      "      Game_ID  Secondes_jeu  Period_Number  X_Coordinate  Y_Coordinate  \\\n",
      "0  2015020364          36.0              1          50.0          20.0   \n",
      "1  2015020364         108.0              1          77.0           6.0   \n",
      "2  2015020364         114.6              1          86.0         -12.0   \n",
      "3  2015020364         192.6              1          82.0           7.0   \n",
      "4  2015020364         309.0              1          48.0         -10.0   \n",
      "\n",
      "    Distance      Angle   Shot_Type Last_event_type  X_last_event  \\\n",
      "0  44.721360 -26.565051  Wrist Shot             Hit         -78.0   \n",
      "1  14.317821 -24.775141  Wrist Shot        Takeaway          35.0   \n",
      "2  12.649111  71.565051  Wrist Shot            Shot          77.0   \n",
      "3  10.630146 -41.185925    Backhand         Faceoff          69.0   \n",
      "4  43.174066  13.392498  Wrist Shot    Blocked Shot          85.0   \n",
      "\n",
      "   Y_last_event  Sec_from_lastEvent  Dis_from_lastEvent  Rebond  Angle_change  \\\n",
      "0         -38.0                 6.0          140.527577   False      0.000000   \n",
      "1          -2.0                 0.0           42.755117   False      0.000000   \n",
      "2           6.0                 6.6           20.124612    True     96.340192   \n",
      "3          22.0                 9.6           19.849433   False      0.000000   \n",
      "4         -11.0                23.4           37.013511   False      0.000000   \n",
      "\n",
      "     Vitesse  \n",
      "0  23.421263  \n",
      "1   0.000000  \n",
      "2   3.049184  \n",
      "3   2.067649  \n",
      "4   1.581774  \n"
     ]
    }
   ],
   "source": [
    "df_train_val = df_train_val[['Game_ID','Secondes_jeu','Period_Number','X_Coordinate','Y_Coordinate','Distance','Angle','Shot_Type','Last_event_type'\n",
    ",'X_last_event','Y_last_event','Sec_from_lastEvent','Dis_from_lastEvent','Rebond','Angle_change','Vitesse']]\n",
    "\n",
    "# print(df_train_val[df_train_val['Rebond']==True])\n",
    "print(df_train_val.head())\n"
   ]
  }
 ],
 "metadata": {
  "kernelspec": {
   "display_name": "Python 3.9.10 64-bit",
   "language": "python",
   "name": "python3"
  },
  "language_info": {
   "codemirror_mode": {
    "name": "ipython",
    "version": 3
   },
   "file_extension": ".py",
   "mimetype": "text/x-python",
   "name": "python",
   "nbconvert_exporter": "python",
   "pygments_lexer": "ipython3",
   "version": "3.9.10"
  },
  "orig_nbformat": 4,
  "vscode": {
   "interpreter": {
    "hash": "aee8b7b246df8f9039afb4144a1f6fd8d2ca17a180786b69acc140d282b71a49"
   }
  }
 },
 "nbformat": 4,
 "nbformat_minor": 2
}
