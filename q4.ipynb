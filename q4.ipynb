{
 "cells": [
  {
   "cell_type": "code",
   "execution_count": null,
   "metadata": {},
   "outputs": [],
   "source": [
    "import pandas as pd"
   ]
  },
  {
   "cell_type": "markdown",
   "metadata": {},
   "source": [
    "## Lire les donnees via l'api"
   ]
  },
  {
   "cell_type": "code",
   "execution_count": 3,
   "metadata": {},
   "outputs": [
    {
     "name": "stderr",
     "output_type": "stream",
     "text": [
      "100%|██████████| 1230/1230 [06:19<00:00,  3.24it/s]\n",
      "100%|██████████| 1230/1230 [07:15<00:00,  2.83it/s]\n",
      "100%|██████████| 1271/1271 [10:05<00:00,  2.10it/s]\n",
      "100%|██████████| 1271/1271 [07:56<00:00,  2.67it/s] \n",
      "100%|██████████| 1271/1271 [07:19<00:00,  2.89it/s]\n"
     ]
    }
   ],
   "source": [
    "from milestone1.question1 import get_play_by_play_season_gameType\n",
    "\n",
    "match_type = 2\n",
    "\n",
    "get_play_by_play_season_gameType(\"2015\",\"0\"+str(match_type),\"milestone1/data_saved/play_by_play\")\n",
    "get_play_by_play_season_gameType(\"2016\",\"0\"+str(match_type),\"milestone1/data_saved/play_by_play\")\n",
    "get_play_by_play_season_gameType(\"2017\",\"0\"+str(match_type),\"milestone1/data_saved/play_by_play\")\n",
    "get_play_by_play_season_gameType(\"2018\",\"0\"+str(match_type),\"milestone1/data_saved/play_by_play\")\n",
    "get_play_by_play_season_gameType(\"2019\",\"0\"+str(match_type),\"milestone1/data_saved/play_by_play\")"
   ]
  },
  {
   "cell_type": "markdown",
   "metadata": {},
   "source": [
    "## Creer les dataframes de test et train/val"
   ]
  },
  {
   "cell_type": "code",
   "execution_count": 4,
   "metadata": {},
   "outputs": [],
   "source": [
    "from milestone1.question4 import *\n",
    "\n",
    "#les donnes des saisons régulière  seulement!\n",
    "directory2015 = r'data_saved/play_by_play/2015/regular'\n",
    "directory2016 = r'data_saved/play_by_play/2016/regular'\n",
    "directory2017 = r'data_saved/play_by_play/2017/regular'\n",
    "directory2018 = r'data_saved/play_by_play/2018/regular'\n",
    "directory2019 = r'data_saved/play_by_play/2019/regular'\n",
    "\n",
    "\n",
    "df2015 = create_full_df(directory=directory2015)\n",
    "df2016 = create_full_df(directory=directory2016)\n",
    "df2017 = create_full_df(directory=directory2017)\n",
    "df2018 = create_full_df(directory=directory2018)\n",
    "\n",
    "# 2019/20 comme l' ensemble final des données test.\n",
    "df2019 = create_full_df(directory=directory2019)\n"
   ]
  },
  {
   "cell_type": "code",
   "execution_count": 89,
   "metadata": {},
   "outputs": [],
   "source": [
    "df15_16 = pd.concat([df2015, df2016], ignore_index=True)\n",
    "df17_18 = pd.concat([df2017, df2018], ignore_index=True)\n",
    "\n",
    "#utilise les données 2015/16 - 2018/19 de la saison régulière pour créer vos ensembles d'entraînement et de validation.\n",
    "df_train_val =  pd.concat([df15_16, df17_18], ignore_index=True)"
   ]
  },
  {
   "cell_type": "code",
   "execution_count": 90,
   "metadata": {},
   "outputs": [
    {
     "name": "stdout",
     "output_type": "stream",
     "text": [
      "           Game_ID  Event_ID  Period_Number Period_Time  Game_Time  \\\n",
      "0       2015020001         7              1       00:51       0.85   \n",
      "1       2015020001         9              1       01:05       1.80   \n",
      "2       2015020001        10              1       01:06       1.10   \n",
      "3       2015020001        13              1       01:53       1.88   \n",
      "4       2015020001        21              1       02:37       2.61   \n",
      "...            ...       ...            ...         ...        ...   \n",
      "310591  2018021270       281              3       15:15      55.25   \n",
      "310592  2018021270       284              3       15:23      55.38   \n",
      "310593  2018021270       294              3       19:05      59.80   \n",
      "310594  2018021270       296              3       19:18      59.30   \n",
      "310595  2018021270       299              3       19:25      59.41   \n",
      "\n",
      "       Shot_or_Goal   Shot_Type         Shooter Team_of_Shooter  \\\n",
      "0              Shot  Wrist Shot      Brad Boyes             TOR   \n",
      "1              Shot   Snap Shot     Nazem Kadri             TOR   \n",
      "2              Shot   Snap Shot     Nazem Kadri             TOR   \n",
      "3              Shot  Wrist Shot   Daniel Winnik             TOR   \n",
      "4              Shot      Tip-In   Joffrey Lupul             TOR   \n",
      "...             ...         ...             ...             ...   \n",
      "310591         Shot  Wrist Shot   Tyler Toffoli             LAK   \n",
      "310592         Shot  Wrist Shot     Nick Holden             VGK   \n",
      "310593         Goal  Wrist Shot  Ilya Kovalchuk             LAK   \n",
      "310594         Shot  Wrist Shot   Austin Wagner             LAK   \n",
      "310595         Shot   Deflected    Alex Iafallo             LAK   \n",
      "\n",
      "                   Goalie Empty_Net Goal_Strength  X_Coordinate  Y_Coordinate  \\\n",
      "0             Carey Price       NaN           NaN         -55.0           6.0   \n",
      "1             Carey Price       NaN           NaN         -79.0           0.0   \n",
      "2             Carey Price       NaN           NaN         -75.0          -1.0   \n",
      "3             Carey Price       NaN           NaN         -55.0         -36.0   \n",
      "4             Carey Price       NaN           NaN         -61.0          -1.0   \n",
      "...                   ...       ...           ...           ...           ...   \n",
      "310591  Marc-Andre Fleury       NaN           NaN         -64.0           5.0   \n",
      "310592     Jonathan Quick       NaN           NaN         -91.0          33.0   \n",
      "310593               None      True          Even         -13.0          23.0   \n",
      "310594  Marc-Andre Fleury       NaN           NaN         -69.0          13.0   \n",
      "310595  Marc-Andre Fleury       NaN           NaN         -68.0          29.0   \n",
      "\n",
      "         Distance      Angle  Est_un_but  Filet_vide  \n",
      "0       35.510562   9.727579           0           1  \n",
      "1       11.000000   0.000000           0           1  \n",
      "2       15.033296  -3.814075           0           1  \n",
      "3       50.209561 -45.806929           0           1  \n",
      "4       29.017236  -1.974934           0           1  \n",
      "...           ...        ...         ...         ...  \n",
      "310591  26.476405  10.885527           0           1  \n",
      "310592  33.015148  88.264295           0           1  \n",
      "310593  80.361682  16.630954           1           1  \n",
      "310594  24.698178  31.759480           0           1  \n",
      "310595  36.400549  52.815294           0           1  \n",
      "\n",
      "[310596 rows x 18 columns]\n"
     ]
    }
   ],
   "source": [
    "print(df_train_val)"
   ]
  },
  {
   "cell_type": "markdown",
   "metadata": {},
   "source": [
    "## Question 4.1: Features management"
   ]
  },
  {
   "cell_type": "code",
   "execution_count": 126,
   "metadata": {},
   "outputs": [],
   "source": [
    "df_train_val = df_train_val[[\"Game_Time\",\"Period_Number\", \"X_Coordinate\", \"Y_Coordinate\", \"Distance\", \"Angle\", \"Shot_or_Goal\"]]"
   ]
  },
  {
   "cell_type": "code",
   "execution_count": 95,
   "metadata": {},
   "outputs": [
    {
     "name": "stdout",
     "output_type": "stream",
     "text": [
      "0           51\n",
      "1          108\n",
      "2           66\n",
      "3          112\n",
      "4          156\n",
      "          ... \n",
      "310591    3315\n",
      "310592    3322\n",
      "310593    3588\n",
      "310594    3558\n",
      "310595    3564\n",
      "Name: Game_Time, Length: 310596, dtype: int64\n"
     ]
    }
   ],
   "source": [
    "print(df_train_val[\"Game_Time\"])"
   ]
  },
  {
   "cell_type": "markdown",
   "metadata": {},
   "source": [
    "## Question 4.2: Previous elements infos"
   ]
  },
  {
   "cell_type": "code",
   "execution_count": 127,
   "metadata": {},
   "outputs": [
    {
     "name": "stderr",
     "output_type": "stream",
     "text": [
      "C:\\Users\\jager\\AppData\\Local\\Temp\\ipykernel_14164\\3181657994.py:1: SettingWithCopyWarning: \n",
      "A value is trying to be set on a copy of a slice from a DataFrame.\n",
      "Try using .loc[row_indexer,col_indexer] = value instead\n",
      "\n",
      "See the caveats in the documentation: https://pandas.pydata.org/pandas-docs/stable/user_guide/indexing.html#returning-a-view-versus-a-copy\n",
      "  df_train_val[\"Game_Time\"] = (df_train_val[\"Game_Time\"]*60).apply(lambda x: int(x))\n"
     ]
    }
   ],
   "source": [
    "df_train_val[\"Game_Time\"] = (df_train_val[\"Game_Time\"]*60).apply(lambda x: int(x))"
   ]
  },
  {
   "cell_type": "code",
   "execution_count": 128,
   "metadata": {},
   "outputs": [
    {
     "name": "stderr",
     "output_type": "stream",
     "text": [
      "C:\\Users\\jager\\AppData\\Local\\Temp\\ipykernel_14164\\1424242724.py:1: SettingWithCopyWarning: \n",
      "A value is trying to be set on a copy of a slice from a DataFrame.\n",
      "Try using .loc[row_indexer,col_indexer] = value instead\n",
      "\n",
      "See the caveats in the documentation: https://pandas.pydata.org/pandas-docs/stable/user_guide/indexing.html#returning-a-view-versus-a-copy\n",
      "  df_train_val[\"Pre_type\"] = [np.nan] + [df_train_val.Shot_or_Goal[i-1] for i in range(1,len(df_train_val.Shot_or_Goal))]\n"
     ]
    }
   ],
   "source": [
    "df_train_val[\"Pre_type\"] = [np.nan] + [df_train_val.Shot_or_Goal[i-1] for i in range(1,len(df_train_val.Shot_or_Goal))]"
   ]
  },
  {
   "cell_type": "code",
   "execution_count": 129,
   "metadata": {},
   "outputs": [
    {
     "name": "stderr",
     "output_type": "stream",
     "text": [
      "C:\\Users\\jager\\AppData\\Local\\Temp\\ipykernel_14164\\3171888276.py:1: SettingWithCopyWarning: \n",
      "A value is trying to be set on a copy of a slice from a DataFrame.\n",
      "Try using .loc[row_indexer,col_indexer] = value instead\n",
      "\n",
      "See the caveats in the documentation: https://pandas.pydata.org/pandas-docs/stable/user_guide/indexing.html#returning-a-view-versus-a-copy\n",
      "  df_train_val[\"Pre_X\"] = [np.nan] + [df_train_val.X_Coordinate[i-1] for i in range(1,len(df_train_val))]\n"
     ]
    }
   ],
   "source": [
    "df_train_val[\"Pre_X\"] = [np.nan] + [df_train_val.X_Coordinate[i-1] for i in range(1,len(df_train_val))]"
   ]
  },
  {
   "cell_type": "code",
   "execution_count": 130,
   "metadata": {},
   "outputs": [
    {
     "name": "stderr",
     "output_type": "stream",
     "text": [
      "C:\\Users\\jager\\AppData\\Local\\Temp\\ipykernel_14164\\2164790909.py:1: SettingWithCopyWarning: \n",
      "A value is trying to be set on a copy of a slice from a DataFrame.\n",
      "Try using .loc[row_indexer,col_indexer] = value instead\n",
      "\n",
      "See the caveats in the documentation: https://pandas.pydata.org/pandas-docs/stable/user_guide/indexing.html#returning-a-view-versus-a-copy\n",
      "  df_train_val[\"Pre_Y\"] = [np.nan] + [df_train_val.Y_Coordinate[i-1] for i in range(1,len(df_train_val))]\n"
     ]
    }
   ],
   "source": [
    "df_train_val[\"Pre_Y\"] = [np.nan] + [df_train_val.Y_Coordinate[i-1] for i in range(1,len(df_train_val))]"
   ]
  },
  {
   "cell_type": "code",
   "execution_count": 131,
   "metadata": {},
   "outputs": [
    {
     "name": "stderr",
     "output_type": "stream",
     "text": [
      "C:\\Users\\jager\\AppData\\Local\\Temp\\ipykernel_14164\\787865271.py:1: SettingWithCopyWarning: \n",
      "A value is trying to be set on a copy of a slice from a DataFrame.\n",
      "Try using .loc[row_indexer,col_indexer] = value instead\n",
      "\n",
      "See the caveats in the documentation: https://pandas.pydata.org/pandas-docs/stable/user_guide/indexing.html#returning-a-view-versus-a-copy\n",
      "  df_train_val[\"Time_Since_LastEvnt\"] = abs(df_train_val[\"Game_Time\"].diff())\n"
     ]
    }
   ],
   "source": [
    "df_train_val[\"Time_Since_LastEvnt\"] = abs(df_train_val[\"Game_Time\"].diff())"
   ]
  },
  {
   "cell_type": "code",
   "execution_count": 132,
   "metadata": {},
   "outputs": [
    {
     "name": "stderr",
     "output_type": "stream",
     "text": [
      "C:\\Users\\jager\\AppData\\Local\\Temp\\ipykernel_14164\\1366962296.py:1: SettingWithCopyWarning: \n",
      "A value is trying to be set on a copy of a slice from a DataFrame.\n",
      "Try using .loc[row_indexer,col_indexer] = value instead\n",
      "\n",
      "See the caveats in the documentation: https://pandas.pydata.org/pandas-docs/stable/user_guide/indexing.html#returning-a-view-versus-a-copy\n",
      "  df_train_val[\"Dist_from_LastEvnt\"] = abs(np.array(df_train_val.Distance)-np.array([np.nan] + [df_train_val.Distance[i-1] for i in range(1,len(df_train_val))]))\n"
     ]
    }
   ],
   "source": [
    "df_train_val[\"Dist_from_LastEvnt\"] = abs(np.array(df_train_val.Distance)-np.array([np.nan] + [df_train_val.Distance[i-1] for i in range(1,len(df_train_val))]))"
   ]
  },
  {
   "cell_type": "code",
   "execution_count": 133,
   "metadata": {},
   "outputs": [
    {
     "data": {
      "text/html": [
       "<div>\n",
       "<style scoped>\n",
       "    .dataframe tbody tr th:only-of-type {\n",
       "        vertical-align: middle;\n",
       "    }\n",
       "\n",
       "    .dataframe tbody tr th {\n",
       "        vertical-align: top;\n",
       "    }\n",
       "\n",
       "    .dataframe thead th {\n",
       "        text-align: right;\n",
       "    }\n",
       "</style>\n",
       "<table border=\"1\" class=\"dataframe\">\n",
       "  <thead>\n",
       "    <tr style=\"text-align: right;\">\n",
       "      <th></th>\n",
       "      <th>Game_Time</th>\n",
       "      <th>Period_Number</th>\n",
       "      <th>X_Coordinate</th>\n",
       "      <th>Y_Coordinate</th>\n",
       "      <th>Distance</th>\n",
       "      <th>Angle</th>\n",
       "      <th>Shot_or_Goal</th>\n",
       "      <th>Pre_type</th>\n",
       "      <th>Pre_X</th>\n",
       "      <th>Pre_Y</th>\n",
       "      <th>Time_Since_LastEvnt</th>\n",
       "      <th>Dist_from_LastEvnt</th>\n",
       "    </tr>\n",
       "  </thead>\n",
       "  <tbody>\n",
       "    <tr>\n",
       "      <th>0</th>\n",
       "      <td>3060</td>\n",
       "      <td>1</td>\n",
       "      <td>-55.0</td>\n",
       "      <td>6.0</td>\n",
       "      <td>35.510562</td>\n",
       "      <td>9.727579</td>\n",
       "      <td>Shot</td>\n",
       "      <td>NaN</td>\n",
       "      <td>NaN</td>\n",
       "      <td>NaN</td>\n",
       "      <td>NaN</td>\n",
       "      <td>NaN</td>\n",
       "    </tr>\n",
       "    <tr>\n",
       "      <th>1</th>\n",
       "      <td>6480</td>\n",
       "      <td>1</td>\n",
       "      <td>-79.0</td>\n",
       "      <td>0.0</td>\n",
       "      <td>11.000000</td>\n",
       "      <td>0.000000</td>\n",
       "      <td>Shot</td>\n",
       "      <td>Shot</td>\n",
       "      <td>-55.0</td>\n",
       "      <td>6.0</td>\n",
       "      <td>3420.0</td>\n",
       "      <td>24.510562</td>\n",
       "    </tr>\n",
       "    <tr>\n",
       "      <th>2</th>\n",
       "      <td>3960</td>\n",
       "      <td>1</td>\n",
       "      <td>-75.0</td>\n",
       "      <td>-1.0</td>\n",
       "      <td>15.033296</td>\n",
       "      <td>-3.814075</td>\n",
       "      <td>Shot</td>\n",
       "      <td>Shot</td>\n",
       "      <td>-79.0</td>\n",
       "      <td>0.0</td>\n",
       "      <td>2520.0</td>\n",
       "      <td>4.033296</td>\n",
       "    </tr>\n",
       "    <tr>\n",
       "      <th>3</th>\n",
       "      <td>6720</td>\n",
       "      <td>1</td>\n",
       "      <td>-55.0</td>\n",
       "      <td>-36.0</td>\n",
       "      <td>50.209561</td>\n",
       "      <td>-45.806929</td>\n",
       "      <td>Shot</td>\n",
       "      <td>Shot</td>\n",
       "      <td>-75.0</td>\n",
       "      <td>-1.0</td>\n",
       "      <td>2760.0</td>\n",
       "      <td>35.176264</td>\n",
       "    </tr>\n",
       "    <tr>\n",
       "      <th>4</th>\n",
       "      <td>9360</td>\n",
       "      <td>1</td>\n",
       "      <td>-61.0</td>\n",
       "      <td>-1.0</td>\n",
       "      <td>29.017236</td>\n",
       "      <td>-1.974934</td>\n",
       "      <td>Shot</td>\n",
       "      <td>Shot</td>\n",
       "      <td>-55.0</td>\n",
       "      <td>-36.0</td>\n",
       "      <td>2640.0</td>\n",
       "      <td>21.192325</td>\n",
       "    </tr>\n",
       "  </tbody>\n",
       "</table>\n",
       "</div>"
      ],
      "text/plain": [
       "   Game_Time  Period_Number  X_Coordinate  Y_Coordinate   Distance      Angle  \\\n",
       "0       3060              1         -55.0           6.0  35.510562   9.727579   \n",
       "1       6480              1         -79.0           0.0  11.000000   0.000000   \n",
       "2       3960              1         -75.0          -1.0  15.033296  -3.814075   \n",
       "3       6720              1         -55.0         -36.0  50.209561 -45.806929   \n",
       "4       9360              1         -61.0          -1.0  29.017236  -1.974934   \n",
       "\n",
       "  Shot_or_Goal Pre_type  Pre_X  Pre_Y  Time_Since_LastEvnt  Dist_from_LastEvnt  \n",
       "0         Shot      NaN    NaN    NaN                  NaN                 NaN  \n",
       "1         Shot     Shot  -55.0    6.0               3420.0           24.510562  \n",
       "2         Shot     Shot  -79.0    0.0               2520.0            4.033296  \n",
       "3         Shot     Shot  -75.0   -1.0               2760.0           35.176264  \n",
       "4         Shot     Shot  -55.0  -36.0               2640.0           21.192325  "
      ]
     },
     "execution_count": 133,
     "metadata": {},
     "output_type": "execute_result"
    }
   ],
   "source": [
    "df_train_val.head()"
   ]
  },
  {
   "cell_type": "markdown",
   "metadata": {},
   "source": [
    "## Question 4.3: New Features"
   ]
  },
  {
   "cell_type": "code",
   "execution_count": 134,
   "metadata": {},
   "outputs": [],
   "source": [
    "df_test = df_train_val"
   ]
  },
  {
   "cell_type": "code",
   "execution_count": 136,
   "metadata": {},
   "outputs": [
    {
     "name": "stderr",
     "output_type": "stream",
     "text": [
      "C:\\Users\\jager\\AppData\\Local\\Temp\\ipykernel_14164\\2998988315.py:1: SettingWithCopyWarning: \n",
      "A value is trying to be set on a copy of a slice from a DataFrame.\n",
      "Try using .loc[row_indexer,col_indexer] = value instead\n",
      "\n",
      "See the caveats in the documentation: https://pandas.pydata.org/pandas-docs/stable/user_guide/indexing.html#returning-a-view-versus-a-copy\n",
      "  df_test[\"Rebond\"] = [df_test.Shot_or_Goal[i] == df_test.Pre_type[i] for i in range(len(df_test))]\n"
     ]
    }
   ],
   "source": [
    "df_test[\"Rebond\"] = [df_test.Shot_or_Goal[i] == df_test.Pre_type[i] for i in range(len(df_test))]"
   ]
  },
  {
   "cell_type": "code",
   "execution_count": 137,
   "metadata": {},
   "outputs": [
    {
     "name": "stderr",
     "output_type": "stream",
     "text": [
      "C:\\Users\\jager\\AppData\\Local\\Temp\\ipykernel_14164\\2724216318.py:1: SettingWithCopyWarning: \n",
      "A value is trying to be set on a copy of a slice from a DataFrame.\n",
      "Try using .loc[row_indexer,col_indexer] = value instead\n",
      "\n",
      "See the caveats in the documentation: https://pandas.pydata.org/pandas-docs/stable/user_guide/indexing.html#returning-a-view-versus-a-copy\n",
      "  df_test[\"Changement_d'angle_de_tir\"] = [int(df_test.Rebond[i]) for i in range(len(df_test))]\n"
     ]
    }
   ],
   "source": [
    "df_test[\"Changement_d'angle_de_tir\"] = [int(df_test.Rebond[i]) for i in range(len(df_test))]"
   ]
  },
  {
   "cell_type": "code",
   "execution_count": 138,
   "metadata": {},
   "outputs": [],
   "source": [
    "df_test[\"Vitesse\"] = df_test.Dist_from_LastEvnt/df_test.Time_Since_LastEvnt"
   ]
  },
  {
   "cell_type": "code",
   "execution_count": 125,
   "metadata": {},
   "outputs": [
    {
     "data": {
      "text/html": [
       "<div>\n",
       "<style scoped>\n",
       "    .dataframe tbody tr th:only-of-type {\n",
       "        vertical-align: middle;\n",
       "    }\n",
       "\n",
       "    .dataframe tbody tr th {\n",
       "        vertical-align: top;\n",
       "    }\n",
       "\n",
       "    .dataframe thead th {\n",
       "        text-align: right;\n",
       "    }\n",
       "</style>\n",
       "<table border=\"1\" class=\"dataframe\">\n",
       "  <thead>\n",
       "    <tr style=\"text-align: right;\">\n",
       "      <th></th>\n",
       "      <th>Game_Time</th>\n",
       "      <th>Period_Number</th>\n",
       "      <th>X_Coordinate</th>\n",
       "      <th>Y_Coordinate</th>\n",
       "      <th>Distance</th>\n",
       "      <th>Angle</th>\n",
       "      <th>Shot_or_Goal</th>\n",
       "      <th>Pre_type</th>\n",
       "      <th>Pre_X</th>\n",
       "      <th>Pre_Y</th>\n",
       "      <th>Time_Since_LastEvnt</th>\n",
       "      <th>Dist_from_LastEvnt</th>\n",
       "      <th>Rebond</th>\n",
       "      <th>Changement_d'angle_de_tir</th>\n",
       "      <th>Vitesse</th>\n",
       "    </tr>\n",
       "  </thead>\n",
       "  <tbody>\n",
       "    <tr>\n",
       "      <th>0</th>\n",
       "      <td>51</td>\n",
       "      <td>1</td>\n",
       "      <td>-55.0</td>\n",
       "      <td>6.0</td>\n",
       "      <td>35.510562</td>\n",
       "      <td>9.727579</td>\n",
       "      <td>Shot</td>\n",
       "      <td>NaN</td>\n",
       "      <td>NaN</td>\n",
       "      <td>NaN</td>\n",
       "      <td>NaN</td>\n",
       "      <td>NaN</td>\n",
       "      <td>False</td>\n",
       "      <td>0</td>\n",
       "      <td>NaN</td>\n",
       "    </tr>\n",
       "    <tr>\n",
       "      <th>1</th>\n",
       "      <td>108</td>\n",
       "      <td>1</td>\n",
       "      <td>-79.0</td>\n",
       "      <td>0.0</td>\n",
       "      <td>11.000000</td>\n",
       "      <td>0.000000</td>\n",
       "      <td>Shot</td>\n",
       "      <td>Shot</td>\n",
       "      <td>-55.0</td>\n",
       "      <td>6.0</td>\n",
       "      <td>57.0</td>\n",
       "      <td>24.510562</td>\n",
       "      <td>True</td>\n",
       "      <td>1</td>\n",
       "      <td>0.430010</td>\n",
       "    </tr>\n",
       "    <tr>\n",
       "      <th>2</th>\n",
       "      <td>66</td>\n",
       "      <td>1</td>\n",
       "      <td>-75.0</td>\n",
       "      <td>-1.0</td>\n",
       "      <td>15.033296</td>\n",
       "      <td>-3.814075</td>\n",
       "      <td>Shot</td>\n",
       "      <td>Shot</td>\n",
       "      <td>-79.0</td>\n",
       "      <td>0.0</td>\n",
       "      <td>-42.0</td>\n",
       "      <td>4.033296</td>\n",
       "      <td>True</td>\n",
       "      <td>1</td>\n",
       "      <td>-0.096031</td>\n",
       "    </tr>\n",
       "    <tr>\n",
       "      <th>3</th>\n",
       "      <td>112</td>\n",
       "      <td>1</td>\n",
       "      <td>-55.0</td>\n",
       "      <td>-36.0</td>\n",
       "      <td>50.209561</td>\n",
       "      <td>-45.806929</td>\n",
       "      <td>Shot</td>\n",
       "      <td>Shot</td>\n",
       "      <td>-75.0</td>\n",
       "      <td>-1.0</td>\n",
       "      <td>46.0</td>\n",
       "      <td>35.176264</td>\n",
       "      <td>True</td>\n",
       "      <td>1</td>\n",
       "      <td>0.764701</td>\n",
       "    </tr>\n",
       "    <tr>\n",
       "      <th>4</th>\n",
       "      <td>156</td>\n",
       "      <td>1</td>\n",
       "      <td>-61.0</td>\n",
       "      <td>-1.0</td>\n",
       "      <td>29.017236</td>\n",
       "      <td>-1.974934</td>\n",
       "      <td>Shot</td>\n",
       "      <td>Shot</td>\n",
       "      <td>-55.0</td>\n",
       "      <td>-36.0</td>\n",
       "      <td>44.0</td>\n",
       "      <td>21.192325</td>\n",
       "      <td>True</td>\n",
       "      <td>1</td>\n",
       "      <td>0.481644</td>\n",
       "    </tr>\n",
       "  </tbody>\n",
       "</table>\n",
       "</div>"
      ],
      "text/plain": [
       "   Game_Time  Period_Number  X_Coordinate  Y_Coordinate   Distance      Angle  \\\n",
       "0         51              1         -55.0           6.0  35.510562   9.727579   \n",
       "1        108              1         -79.0           0.0  11.000000   0.000000   \n",
       "2         66              1         -75.0          -1.0  15.033296  -3.814075   \n",
       "3        112              1         -55.0         -36.0  50.209561 -45.806929   \n",
       "4        156              1         -61.0          -1.0  29.017236  -1.974934   \n",
       "\n",
       "  Shot_or_Goal Pre_type  Pre_X  Pre_Y  Time_Since_LastEvnt  \\\n",
       "0         Shot      NaN    NaN    NaN                  NaN   \n",
       "1         Shot     Shot  -55.0    6.0                 57.0   \n",
       "2         Shot     Shot  -79.0    0.0                -42.0   \n",
       "3         Shot     Shot  -75.0   -1.0                 46.0   \n",
       "4         Shot     Shot  -55.0  -36.0                 44.0   \n",
       "\n",
       "   Dist_from_LastEvnt  Rebond  Changement_d'angle_de_tir   Vitesse  \n",
       "0                 NaN   False                          0       NaN  \n",
       "1           24.510562    True                          1  0.430010  \n",
       "2            4.033296    True                          1 -0.096031  \n",
       "3           35.176264    True                          1  0.764701  \n",
       "4           21.192325    True                          1  0.481644  "
      ]
     },
     "execution_count": 125,
     "metadata": {},
     "output_type": "execute_result"
    }
   ],
   "source": [
    "df_test.head()"
   ]
  }
 ],
 "metadata": {
  "kernelspec": {
   "display_name": "Python ('DSDev1')",
   "language": "python",
   "name": "python3"
  },
  "language_info": {
   "codemirror_mode": {
    "name": "ipython",
    "version": 3
   },
   "file_extension": ".py",
   "mimetype": "text/x-python",
   "name": "python",
   "nbconvert_exporter": "python",
   "pygments_lexer": "ipython3",
   "version": "3.10.4"
  },
  "orig_nbformat": 4,
  "vscode": {
   "interpreter": {
    "hash": "25a19fbe0a9132dfb9279d48d161753c6352f8f9478c2e74383d340069b907c3"
   }
  }
 },
 "nbformat": 4,
 "nbformat_minor": 2
}
