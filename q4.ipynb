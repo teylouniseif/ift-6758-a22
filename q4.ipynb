{
 "cells": [
  {
   "cell_type": "code",
   "execution_count": 1,
   "metadata": {},
   "outputs": [],
   "source": [
    "import pandas as pd"
   ]
  },
  {
   "cell_type": "markdown",
   "metadata": {},
   "source": [
    "## Lire les donnees via l'api"
   ]
  },
  {
   "cell_type": "code",
   "execution_count": 6,
   "metadata": {},
   "outputs": [
    {
     "name": "stderr",
     "output_type": "stream",
     "text": [
      "100%|██████████| 1230/1230 [06:06<00:00,  3.35it/s]\n",
      " 13%|█▎        | 160/1230 [00:40<04:31,  3.95it/s]\n"
     ]
    },
    {
     "ename": "KeyboardInterrupt",
     "evalue": "",
     "output_type": "error",
     "traceback": [
      "\u001b[1;31m---------------------------------------------------------------------------\u001b[0m",
      "\u001b[1;31mKeyboardInterrupt\u001b[0m                         Traceback (most recent call last)",
      "\u001b[1;32mc:\\Users\\jager\\OneDrive\\Bureau\\Uni\\udem\\DataScience\\Devoir1\\ift-6758-a22\\q4.ipynb Cellule 3\u001b[0m in \u001b[0;36m<cell line: 6>\u001b[1;34m()\u001b[0m\n\u001b[0;32m      <a href='vscode-notebook-cell:/c%3A/Users/jager/OneDrive/Bureau/Uni/udem/DataScience/Devoir1/ift-6758-a22/q4.ipynb#W2sZmlsZQ%3D%3D?line=2'>3</a>\u001b[0m match_type \u001b[39m=\u001b[39m \u001b[39m2\u001b[39m\n\u001b[0;32m      <a href='vscode-notebook-cell:/c%3A/Users/jager/OneDrive/Bureau/Uni/udem/DataScience/Devoir1/ift-6758-a22/q4.ipynb#W2sZmlsZQ%3D%3D?line=4'>5</a>\u001b[0m get_play_by_play_season_gameType(\u001b[39m\"\u001b[39m\u001b[39m2015\u001b[39m\u001b[39m\"\u001b[39m,\u001b[39m\"\u001b[39m\u001b[39m0\u001b[39m\u001b[39m\"\u001b[39m\u001b[39m+\u001b[39m\u001b[39mstr\u001b[39m(match_type),\u001b[39m\"\u001b[39m\u001b[39mdata_saved/play_by_play\u001b[39m\u001b[39m\"\u001b[39m)\n\u001b[1;32m----> <a href='vscode-notebook-cell:/c%3A/Users/jager/OneDrive/Bureau/Uni/udem/DataScience/Devoir1/ift-6758-a22/q4.ipynb#W2sZmlsZQ%3D%3D?line=5'>6</a>\u001b[0m get_play_by_play_season_gameType(\u001b[39m\"\u001b[39;49m\u001b[39m2016\u001b[39;49m\u001b[39m\"\u001b[39;49m,\u001b[39m\"\u001b[39;49m\u001b[39m0\u001b[39;49m\u001b[39m\"\u001b[39;49m\u001b[39m+\u001b[39;49m\u001b[39mstr\u001b[39;49m(match_type),\u001b[39m\"\u001b[39;49m\u001b[39mdata_saved/play_by_play\u001b[39;49m\u001b[39m\"\u001b[39;49m)\n\u001b[0;32m      <a href='vscode-notebook-cell:/c%3A/Users/jager/OneDrive/Bureau/Uni/udem/DataScience/Devoir1/ift-6758-a22/q4.ipynb#W2sZmlsZQ%3D%3D?line=6'>7</a>\u001b[0m get_play_by_play_season_gameType(\u001b[39m\"\u001b[39m\u001b[39m2017\u001b[39m\u001b[39m\"\u001b[39m,\u001b[39m\"\u001b[39m\u001b[39m0\u001b[39m\u001b[39m\"\u001b[39m\u001b[39m+\u001b[39m\u001b[39mstr\u001b[39m(match_type),\u001b[39m\"\u001b[39m\u001b[39mdata_saved/play_by_play\u001b[39m\u001b[39m\"\u001b[39m)\n\u001b[0;32m      <a href='vscode-notebook-cell:/c%3A/Users/jager/OneDrive/Bureau/Uni/udem/DataScience/Devoir1/ift-6758-a22/q4.ipynb#W2sZmlsZQ%3D%3D?line=7'>8</a>\u001b[0m get_play_by_play_season_gameType(\u001b[39m\"\u001b[39m\u001b[39m2018\u001b[39m\u001b[39m\"\u001b[39m,\u001b[39m\"\u001b[39m\u001b[39m0\u001b[39m\u001b[39m\"\u001b[39m\u001b[39m+\u001b[39m\u001b[39mstr\u001b[39m(match_type),\u001b[39m\"\u001b[39m\u001b[39mdata_saved/play_by_play\u001b[39m\u001b[39m\"\u001b[39m)\n",
      "File \u001b[1;32mc:\\Users\\jager\\OneDrive\\Bureau\\Uni\\udem\\DataScience\\Devoir1\\ift-6758-a22\\milestone1\\question1.py:119\u001b[0m, in \u001b[0;36mget_play_by_play_season_gameType\u001b[1;34m(season_year, gameType, path)\u001b[0m\n\u001b[0;32m    117\u001b[0m \u001b[39m# print(gameID)\u001b[39;00m\n\u001b[0;32m    118\u001b[0m str_gameType \u001b[39m=\u001b[39m \u001b[39m\"\u001b[39m\u001b[39mregular\u001b[39m\u001b[39m\"\u001b[39m \u001b[39mif\u001b[39;00m gameType \u001b[39m==\u001b[39m \u001b[39m\"\u001b[39m\u001b[39m02\u001b[39m\u001b[39m\"\u001b[39m \u001b[39melse\u001b[39;00m \u001b[39m\"\u001b[39m\u001b[39mplayoff\u001b[39m\u001b[39m\"\u001b[39m\n\u001b[1;32m--> 119\u001b[0m get_play_by_play(gameID,path\u001b[39m+\u001b[39;49m\u001b[39m\"\u001b[39;49m\u001b[39m/\u001b[39;49m\u001b[39m\"\u001b[39;49m\u001b[39m+\u001b[39;49mseason_year\u001b[39m+\u001b[39;49m\u001b[39m\"\u001b[39;49m\u001b[39m/\u001b[39;49m\u001b[39m\"\u001b[39;49m\u001b[39m+\u001b[39;49mstr_gameType)\n",
      "File \u001b[1;32mc:\\Users\\jager\\OneDrive\\Bureau\\Uni\\udem\\DataScience\\Devoir1\\ift-6758-a22\\milestone1\\question1.py:105\u001b[0m, in \u001b[0;36mget_play_by_play\u001b[1;34m(gameID, folder_path)\u001b[0m\n\u001b[0;32m    103\u001b[0m f_open \u001b[39m=\u001b[39m \u001b[39mopen\u001b[39m(path, \u001b[39m'\u001b[39m\u001b[39mr\u001b[39m\u001b[39m'\u001b[39m)\n\u001b[0;32m    104\u001b[0m \u001b[39m# print(\"exist\")\u001b[39;00m\n\u001b[1;32m--> 105\u001b[0m \u001b[39mreturn\u001b[39;00m json\u001b[39m.\u001b[39;49mload(f_open)\n",
      "File \u001b[1;32m~\\AppData\\Local\\Programs\\Python\\Python310\\lib\\json\\__init__.py:293\u001b[0m, in \u001b[0;36mload\u001b[1;34m(fp, cls, object_hook, parse_float, parse_int, parse_constant, object_pairs_hook, **kw)\u001b[0m\n\u001b[0;32m    274\u001b[0m \u001b[39mdef\u001b[39;00m \u001b[39mload\u001b[39m(fp, \u001b[39m*\u001b[39m, \u001b[39mcls\u001b[39m\u001b[39m=\u001b[39m\u001b[39mNone\u001b[39;00m, object_hook\u001b[39m=\u001b[39m\u001b[39mNone\u001b[39;00m, parse_float\u001b[39m=\u001b[39m\u001b[39mNone\u001b[39;00m,\n\u001b[0;32m    275\u001b[0m         parse_int\u001b[39m=\u001b[39m\u001b[39mNone\u001b[39;00m, parse_constant\u001b[39m=\u001b[39m\u001b[39mNone\u001b[39;00m, object_pairs_hook\u001b[39m=\u001b[39m\u001b[39mNone\u001b[39;00m, \u001b[39m*\u001b[39m\u001b[39m*\u001b[39mkw):\n\u001b[0;32m    276\u001b[0m     \u001b[39m\"\"\"Deserialize ``fp`` (a ``.read()``-supporting file-like object containing\u001b[39;00m\n\u001b[0;32m    277\u001b[0m \u001b[39m    a JSON document) to a Python object.\u001b[39;00m\n\u001b[0;32m    278\u001b[0m \n\u001b[1;32m   (...)\u001b[0m\n\u001b[0;32m    291\u001b[0m \u001b[39m    kwarg; otherwise ``JSONDecoder`` is used.\u001b[39;00m\n\u001b[0;32m    292\u001b[0m \u001b[39m    \"\"\"\u001b[39;00m\n\u001b[1;32m--> 293\u001b[0m     \u001b[39mreturn\u001b[39;00m loads(fp\u001b[39m.\u001b[39mread(),\n\u001b[0;32m    294\u001b[0m         \u001b[39mcls\u001b[39m\u001b[39m=\u001b[39m\u001b[39mcls\u001b[39m, object_hook\u001b[39m=\u001b[39mobject_hook,\n\u001b[0;32m    295\u001b[0m         parse_float\u001b[39m=\u001b[39mparse_float, parse_int\u001b[39m=\u001b[39mparse_int,\n\u001b[0;32m    296\u001b[0m         parse_constant\u001b[39m=\u001b[39mparse_constant, object_pairs_hook\u001b[39m=\u001b[39mobject_pairs_hook, \u001b[39m*\u001b[39m\u001b[39m*\u001b[39mkw)\n",
      "File \u001b[1;32m~\\AppData\\Local\\Programs\\Python\\Python310\\lib\\json\\__init__.py:346\u001b[0m, in \u001b[0;36mloads\u001b[1;34m(s, cls, object_hook, parse_float, parse_int, parse_constant, object_pairs_hook, **kw)\u001b[0m\n\u001b[0;32m    341\u001b[0m     s \u001b[39m=\u001b[39m s\u001b[39m.\u001b[39mdecode(detect_encoding(s), \u001b[39m'\u001b[39m\u001b[39msurrogatepass\u001b[39m\u001b[39m'\u001b[39m)\n\u001b[0;32m    343\u001b[0m \u001b[39mif\u001b[39;00m (\u001b[39mcls\u001b[39m \u001b[39mis\u001b[39;00m \u001b[39mNone\u001b[39;00m \u001b[39mand\u001b[39;00m object_hook \u001b[39mis\u001b[39;00m \u001b[39mNone\u001b[39;00m \u001b[39mand\u001b[39;00m\n\u001b[0;32m    344\u001b[0m         parse_int \u001b[39mis\u001b[39;00m \u001b[39mNone\u001b[39;00m \u001b[39mand\u001b[39;00m parse_float \u001b[39mis\u001b[39;00m \u001b[39mNone\u001b[39;00m \u001b[39mand\u001b[39;00m\n\u001b[0;32m    345\u001b[0m         parse_constant \u001b[39mis\u001b[39;00m \u001b[39mNone\u001b[39;00m \u001b[39mand\u001b[39;00m object_pairs_hook \u001b[39mis\u001b[39;00m \u001b[39mNone\u001b[39;00m \u001b[39mand\u001b[39;00m \u001b[39mnot\u001b[39;00m kw):\n\u001b[1;32m--> 346\u001b[0m     \u001b[39mreturn\u001b[39;00m _default_decoder\u001b[39m.\u001b[39;49mdecode(s)\n\u001b[0;32m    347\u001b[0m \u001b[39mif\u001b[39;00m \u001b[39mcls\u001b[39m \u001b[39mis\u001b[39;00m \u001b[39mNone\u001b[39;00m:\n\u001b[0;32m    348\u001b[0m     \u001b[39mcls\u001b[39m \u001b[39m=\u001b[39m JSONDecoder\n",
      "File \u001b[1;32m~\\AppData\\Local\\Programs\\Python\\Python310\\lib\\json\\decoder.py:337\u001b[0m, in \u001b[0;36mJSONDecoder.decode\u001b[1;34m(self, s, _w)\u001b[0m\n\u001b[0;32m    332\u001b[0m \u001b[39mdef\u001b[39;00m \u001b[39mdecode\u001b[39m(\u001b[39mself\u001b[39m, s, _w\u001b[39m=\u001b[39mWHITESPACE\u001b[39m.\u001b[39mmatch):\n\u001b[0;32m    333\u001b[0m     \u001b[39m\"\"\"Return the Python representation of ``s`` (a ``str`` instance\u001b[39;00m\n\u001b[0;32m    334\u001b[0m \u001b[39m    containing a JSON document).\u001b[39;00m\n\u001b[0;32m    335\u001b[0m \n\u001b[0;32m    336\u001b[0m \u001b[39m    \"\"\"\u001b[39;00m\n\u001b[1;32m--> 337\u001b[0m     obj, end \u001b[39m=\u001b[39m \u001b[39mself\u001b[39;49m\u001b[39m.\u001b[39;49mraw_decode(s, idx\u001b[39m=\u001b[39;49m_w(s, \u001b[39m0\u001b[39;49m)\u001b[39m.\u001b[39;49mend())\n\u001b[0;32m    338\u001b[0m     end \u001b[39m=\u001b[39m _w(s, end)\u001b[39m.\u001b[39mend()\n\u001b[0;32m    339\u001b[0m     \u001b[39mif\u001b[39;00m end \u001b[39m!=\u001b[39m \u001b[39mlen\u001b[39m(s):\n",
      "\u001b[1;31mKeyboardInterrupt\u001b[0m: "
     ]
    }
   ],
   "source": [
    "from milestone1.question1 import get_play_by_play_season_gameType\n",
    "\n",
    "match_type = 2\n",
    "\n",
    "get_play_by_play_season_gameType(\"2015\",\"0\"+str(match_type),\"data_saved/play_by_play\")\n",
    "get_play_by_play_season_gameType(\"2016\",\"0\"+str(match_type),\"data_saved/play_by_play\")\n",
    "get_play_by_play_season_gameType(\"2017\",\"0\"+str(match_type),\"data_saved/play_by_play\")\n",
    "get_play_by_play_season_gameType(\"2018\",\"0\"+str(match_type),\"data_saved/play_by_play\")\n",
    "get_play_by_play_season_gameType(\"2019\",\"0\"+str(match_type),\"data_saved/play_by_play\")"
   ]
  },
  {
   "cell_type": "markdown",
   "metadata": {},
   "source": [
    "## Creer les dataframes de test et train/val"
   ]
  },
  {
   "cell_type": "code",
   "execution_count": 2,
   "metadata": {},
   "outputs": [],
   "source": [
    "from milestone1.question4 import *\n",
    "\n",
    "#les donnes des saisons régulière seulement!\n",
    "directory2015 = r'data_saved/play_by_play/2015/regular'\n",
    "directory2016 = r'data_saved/play_by_play/2016/regular'\n",
    "directory2017 = r'data_saved/play_by_play/2017/regular'\n",
    "directory2018 = r'data_saved/play_by_play/2018/regular'\n",
    "directory2019 = r'data_saved/play_by_play/2019/regular'\n",
    "\n",
    "\n",
    "df2015 = create_full_df(directory=directory2015)\n",
    "df2016 = create_full_df(directory=directory2016)\n",
    "df2017 = create_full_df(directory=directory2017)\n",
    "df2018 = create_full_df(directory=directory2018)\n",
    "\n",
    "# 2019/20 comme l' ensemble final des données test.\n",
    "df2019 = create_full_df(directory=directory2019)\n"
   ]
  },
  {
   "cell_type": "code",
   "execution_count": 7,
   "metadata": {},
   "outputs": [
    {
     "ename": "KeyboardInterrupt",
     "evalue": "",
     "output_type": "error",
     "traceback": [
      "\u001b[1;31m---------------------------------------------------------------------------\u001b[0m",
      "\u001b[1;31mKeyboardInterrupt\u001b[0m                         Traceback (most recent call last)",
      "\u001b[1;32mc:\\Users\\jager\\OneDrive\\Bureau\\Uni\\udem\\DataScience\\Devoir1\\ift-6758-a22\\q4.ipynb Cellule 6\u001b[0m in \u001b[0;36m<cell line: 4>\u001b[1;34m()\u001b[0m\n\u001b[0;32m      <a href='vscode-notebook-cell:/c%3A/Users/jager/OneDrive/Bureau/Uni/udem/DataScience/Devoir1/ift-6758-a22/q4.ipynb#W5sZmlsZQ%3D%3D?line=0'>1</a>\u001b[0m \u001b[39m#Question 4.4 Bonus\u001b[39;00m\n\u001b[0;32m      <a href='vscode-notebook-cell:/c%3A/Users/jager/OneDrive/Bureau/Uni/udem/DataScience/Devoir1/ift-6758-a22/q4.ipynb#W5sZmlsZQ%3D%3D?line=1'>2</a>\u001b[0m \u001b[39mfrom\u001b[39;00m \u001b[39mquestion4\u001b[39;00m \u001b[39mimport\u001b[39;00m \u001b[39m*\u001b[39m\n\u001b[1;32m----> <a href='vscode-notebook-cell:/c%3A/Users/jager/OneDrive/Bureau/Uni/udem/DataScience/Devoir1/ift-6758-a22/q4.ipynb#W5sZmlsZQ%3D%3D?line=3'>4</a>\u001b[0m df2015 \u001b[39m=\u001b[39m add_power_play(df2015, directory2015)\n\u001b[0;32m      <a href='vscode-notebook-cell:/c%3A/Users/jager/OneDrive/Bureau/Uni/udem/DataScience/Devoir1/ift-6758-a22/q4.ipynb#W5sZmlsZQ%3D%3D?line=4'>5</a>\u001b[0m df2016 \u001b[39m=\u001b[39m add_power_play(df2016, directory2016)\n\u001b[0;32m      <a href='vscode-notebook-cell:/c%3A/Users/jager/OneDrive/Bureau/Uni/udem/DataScience/Devoir1/ift-6758-a22/q4.ipynb#W5sZmlsZQ%3D%3D?line=5'>6</a>\u001b[0m df2017 \u001b[39m=\u001b[39m add_power_play(df2017, directory2017)\n",
      "File \u001b[1;32mc:\\Users\\jager\\OneDrive\\Bureau\\Uni\\udem\\DataScience\\Devoir1\\ift-6758-a22\\question4.py:29\u001b[0m, in \u001b[0;36madd_power_play\u001b[1;34m(df, path)\u001b[0m\n\u001b[0;32m     26\u001b[0m     \u001b[39mcontinue\u001b[39;00m\n\u001b[0;32m     27\u001b[0m nperiod \u001b[39m=\u001b[39m \u001b[39mint\u001b[39m(nperiod)\n\u001b[1;32m---> 29\u001b[0m \u001b[39mfor\u001b[39;00m idx, row \u001b[39min\u001b[39;00m df\u001b[39m.\u001b[39miterrows():\n\u001b[0;32m     30\u001b[0m     \u001b[39mif\u001b[39;00m row[\u001b[39m\"\u001b[39m\u001b[39mGame_ID\u001b[39m\u001b[39m\"\u001b[39m]\u001b[39m==\u001b[39m\u001b[39mid\u001b[39m:\n\u001b[0;32m     31\u001b[0m         \u001b[39mif\u001b[39;00m row[\u001b[39m\"\u001b[39m\u001b[39mPeriod_Number\u001b[39m\u001b[39m\"\u001b[39m] \u001b[39m==\u001b[39m nperiod:\n",
      "File \u001b[1;32m~\\AppData\\Local\\Programs\\Python\\Python310\\lib\\site-packages\\pandas\\core\\frame.py:1324\u001b[0m, in \u001b[0;36mDataFrame.iterrows\u001b[1;34m(self)\u001b[0m\n\u001b[0;32m   1322\u001b[0m klass \u001b[39m=\u001b[39m \u001b[39mself\u001b[39m\u001b[39m.\u001b[39m_constructor_sliced\n\u001b[0;32m   1323\u001b[0m \u001b[39mfor\u001b[39;00m k, v \u001b[39min\u001b[39;00m \u001b[39mzip\u001b[39m(\u001b[39mself\u001b[39m\u001b[39m.\u001b[39mindex, \u001b[39mself\u001b[39m\u001b[39m.\u001b[39mvalues):\n\u001b[1;32m-> 1324\u001b[0m     s \u001b[39m=\u001b[39m klass(v, index\u001b[39m=\u001b[39;49mcolumns, name\u001b[39m=\u001b[39;49mk)\n\u001b[0;32m   1325\u001b[0m     \u001b[39myield\u001b[39;00m k, s\n",
      "File \u001b[1;32m~\\AppData\\Local\\Programs\\Python\\Python310\\lib\\site-packages\\pandas\\core\\series.py:367\u001b[0m, in \u001b[0;36mSeries.__init__\u001b[1;34m(self, data, index, dtype, name, copy, fastpath)\u001b[0m\n\u001b[0;32m    363\u001b[0m \u001b[39melse\u001b[39;00m:\n\u001b[0;32m    365\u001b[0m     name \u001b[39m=\u001b[39m ibase\u001b[39m.\u001b[39mmaybe_extract_name(name, data, \u001b[39mtype\u001b[39m(\u001b[39mself\u001b[39m))\n\u001b[1;32m--> 367\u001b[0m     \u001b[39mif\u001b[39;00m is_empty_data(data) \u001b[39mand\u001b[39;00m dtype \u001b[39mis\u001b[39;00m \u001b[39mNone\u001b[39;00m:\n\u001b[0;32m    368\u001b[0m         \u001b[39m# gh-17261\u001b[39;00m\n\u001b[0;32m    369\u001b[0m         warnings\u001b[39m.\u001b[39mwarn(\n\u001b[0;32m    370\u001b[0m             \u001b[39m\"\u001b[39m\u001b[39mThe default dtype for empty Series will be \u001b[39m\u001b[39m'\u001b[39m\u001b[39mobject\u001b[39m\u001b[39m'\u001b[39m\u001b[39m instead \u001b[39m\u001b[39m\"\u001b[39m\n\u001b[0;32m    371\u001b[0m             \u001b[39m\"\u001b[39m\u001b[39mof \u001b[39m\u001b[39m'\u001b[39m\u001b[39mfloat64\u001b[39m\u001b[39m'\u001b[39m\u001b[39m in a future version. Specify a dtype explicitly \u001b[39m\u001b[39m\"\u001b[39m\n\u001b[1;32m   (...)\u001b[0m\n\u001b[0;32m    374\u001b[0m             stacklevel\u001b[39m=\u001b[39mfind_stack_level(),\n\u001b[0;32m    375\u001b[0m         )\n\u001b[0;32m    376\u001b[0m         \u001b[39m# uncomment the line below when removing the FutureWarning\u001b[39;00m\n\u001b[0;32m    377\u001b[0m         \u001b[39m# dtype = np.dtype(object)\u001b[39;00m\n",
      "File \u001b[1;32m~\\AppData\\Local\\Programs\\Python\\Python310\\lib\\site-packages\\pandas\\core\\construction.py:802\u001b[0m, in \u001b[0;36mis_empty_data\u001b[1;34m(data)\u001b[0m\n\u001b[0;32m    798\u001b[0m             subarr \u001b[39m=\u001b[39m np\u001b[39m.\u001b[39marray(arr, dtype\u001b[39m=\u001b[39m\u001b[39mobject\u001b[39m, copy\u001b[39m=\u001b[39mcopy)\n\u001b[0;32m    799\u001b[0m     \u001b[39mreturn\u001b[39;00m subarr\n\u001b[1;32m--> 802\u001b[0m \u001b[39mdef\u001b[39;00m \u001b[39mis_empty_data\u001b[39m(data: Any) \u001b[39m-\u001b[39m\u001b[39m>\u001b[39m \u001b[39mbool\u001b[39m:\n\u001b[0;32m    803\u001b[0m     \u001b[39m\"\"\"\u001b[39;00m\n\u001b[0;32m    804\u001b[0m \u001b[39m    Utility to check if a Series is instantiated with empty data,\u001b[39;00m\n\u001b[0;32m    805\u001b[0m \u001b[39m    which does not contain dtype information.\u001b[39;00m\n\u001b[1;32m   (...)\u001b[0m\n\u001b[0;32m    814\u001b[0m \u001b[39m    bool\u001b[39;00m\n\u001b[0;32m    815\u001b[0m \u001b[39m    \"\"\"\u001b[39;00m\n\u001b[0;32m    816\u001b[0m     is_none \u001b[39m=\u001b[39m data \u001b[39mis\u001b[39;00m \u001b[39mNone\u001b[39;00m\n",
      "\u001b[1;31mKeyboardInterrupt\u001b[0m: "
     ]
    }
   ],
   "source": [
    "#Question 4.4 Bonus\n",
    "from question4 import *\n",
    "\n",
    "df2015 = add_power_play(df2015, directory2015)\n",
    "df2016 = add_power_play(df2016, directory2016)\n",
    "df2017 = add_power_play(df2017, directory2017)\n",
    "df2018 = add_power_play(df2018, directory2018)\n",
    "df2019 = add_power_play(df2019, directory2019)"
   ]
  },
  {
   "cell_type": "code",
   "execution_count": 42,
   "metadata": {},
   "outputs": [],
   "source": [
    "df15_16 = pd.concat([df2015, df2016], ignore_index=True)\n",
    "df17_18 = pd.concat([df2017, df2018], ignore_index=True)\n",
    "\n",
    "#utilise les données 2015/16 - 2018/19 de la saison régulière pour créer vos ensembles d'entraînement et de validation.\n",
    "df_train_val =  pd.concat([df15_16, df17_18], ignore_index=True)"
   ]
  },
  {
   "cell_type": "code",
   "execution_count": 24,
   "metadata": {},
   "outputs": [
    {
     "name": "stdout",
     "output_type": "stream",
     "text": [
      "      Game_ID  Event_ID  Period_Number Period_Time  Game_Time Shot_or_Goal  \\\n",
      "0  2015020001         7              1       00:51       0.85         Shot   \n",
      "1  2015020001         9              1       01:05       1.08         Shot   \n",
      "2  2015020001        10              1       01:06       1.10         Shot   \n",
      "3  2015020001        13              1       01:53       1.88         Shot   \n",
      "4  2015020001        21              1       02:37       2.61         Shot   \n",
      "\n",
      "    Shot_Type        Shooter Team_of_Shooter       Goalie  ... Goal_Strength  \\\n",
      "0  Wrist Shot     Brad Boyes             TOR  Carey Price  ...           NaN   \n",
      "1   Snap Shot    Nazem Kadri             TOR  Carey Price  ...           NaN   \n",
      "2   Snap Shot    Nazem Kadri             TOR  Carey Price  ...           NaN   \n",
      "3  Wrist Shot  Daniel Winnik             TOR  Carey Price  ...           NaN   \n",
      "4      Tip-In  Joffrey Lupul             TOR  Carey Price  ...           NaN   \n",
      "\n",
      "  X_Coordinate  Y_Coordinate   Distance      Angle  Est_un_but  Filet_vide  \\\n",
      "0        -55.0           6.0  35.510562   9.727579           0           0   \n",
      "1        -79.0           0.0  11.000000   0.000000           0           0   \n",
      "2        -75.0          -1.0  15.033296  -3.814075           0           0   \n",
      "3        -55.0         -36.0  50.209561 -45.806929           0           0   \n",
      "4        -61.0          -1.0  29.017236  -1.974934           0           0   \n",
      "\n",
      "   pwplay_RemainingTime pwplay_fplayer  pwplay_eplayer  \n",
      "0                     0            5.0             5.0  \n",
      "1                     0            5.0             5.0  \n",
      "2                     0            5.0             5.0  \n",
      "3                     0            5.0             5.0  \n",
      "4                     0            5.0             5.0  \n",
      "\n",
      "[5 rows x 21 columns]\n"
     ]
    }
   ],
   "source": [
    "print(df_train_val.head())"
   ]
  },
  {
   "cell_type": "markdown",
   "metadata": {},
   "source": [
    "## Question 4.1: Features management"
   ]
  },
  {
   "cell_type": "code",
   "execution_count": 43,
   "metadata": {},
   "outputs": [],
   "source": [
    "df_train_val = df_train_val[[\"Game_ID\", \"Game_Time\",\"Period_Number\", \"X_Coordinate\", \"Y_Coordinate\", \"Distance\", \"Angle\", \"Shot_or_Goal\"]]\n",
    "# \"pwplay_RemainingTime\", \"pwplay_fplayer\", \"pwplay_eplayer\""
   ]
  },
  {
   "cell_type": "markdown",
   "metadata": {},
   "source": [
    "## Question 4.2: Previous elements infos"
   ]
  },
  {
   "cell_type": "code",
   "execution_count": 44,
   "metadata": {},
   "outputs": [],
   "source": [
    "df_train_val[\"Game_Time\"] = (df_train_val[\"Game_Time\"]*60).apply(lambda x: int(x))"
   ]
  },
  {
   "cell_type": "code",
   "execution_count": 69,
   "metadata": {},
   "outputs": [],
   "source": [
    "df_train_val[\"Change_ID\"] = [False]+[df_train_val[\"Game_ID\"][i] == df_train_val[\"Game_ID\"][i-1] for i in range(1, len(df_train_val))]"
   ]
  },
  {
   "cell_type": "code",
   "execution_count": 75,
   "metadata": {},
   "outputs": [],
   "source": [
    "col = list()\n",
    "for i in range(len(df_train_val.Shot_or_Goal)):\n",
    "    if df_train_val.Change_ID[i]:\n",
    "        col += [df_train_val.Shot_or_Goal[i-1]]\n",
    "    else:\n",
    "        col += [np.nan] \n",
    "\n",
    "df_train_val[\"Pre_type\"] = col"
   ]
  },
  {
   "cell_type": "code",
   "execution_count": 76,
   "metadata": {},
   "outputs": [],
   "source": [
    "col = list()\n",
    "for i in range(len(df_train_val)):\n",
    "    if df_train_val.Change_ID[i]:\n",
    "        col += [df_train_val.X_Coordinate[i-1]]\n",
    "    else:\n",
    "        col += [np.nan] \n",
    "\n",
    "df_train_val[\"Pre_X\"] = col"
   ]
  },
  {
   "cell_type": "code",
   "execution_count": 78,
   "metadata": {},
   "outputs": [],
   "source": [
    "col = list()\n",
    "for i in range(len(df_train_val)):\n",
    "    if df_train_val.Change_ID[i]:\n",
    "        col += [df_train_val.Y_Coordinate[i-1]]\n",
    "    else:\n",
    "        col += [np.nan] \n",
    "\n",
    "df_train_val[\"Pre_Y\"] = col"
   ]
  },
  {
   "cell_type": "code",
   "execution_count": 86,
   "metadata": {},
   "outputs": [],
   "source": [
    "df_train_val[\"Time_Since_LastEvnt\"] = abs(df_train_val[\"Game_Time\"].diff())\n",
    "for i in range(len(df_train_val)):\n",
    "    if df_train_val.Change_ID[i]:\n",
    "        continue\n",
    "    else:\n",
    "        df_train_val.at[i, \"Time_Since_LastEvnt\"] = np.nan"
   ]
  },
  {
   "cell_type": "code",
   "execution_count": 85,
   "metadata": {},
   "outputs": [],
   "source": [
    "col = list()\n",
    "for i in range(len(df_train_val)):\n",
    "    if df_train_val.Change_ID[i]:\n",
    "        col += [abs(np.linalg.norm(np.array([df_train_val.X_Coordinate[i], df_train_val.Y_Coordinate[i]]) - np.array([df_train_val.Pre_X[i], df_train_val.Pre_Y[i]])))]\n",
    "    else:\n",
    "        col += [np.nan] \n",
    "\n",
    "df_train_val[\"Dist_from_LastEvnt\"] = col"
   ]
  },
  {
   "cell_type": "code",
   "execution_count": 87,
   "metadata": {},
   "outputs": [
    {
     "data": {
      "text/html": [
       "<div>\n",
       "<style scoped>\n",
       "    .dataframe tbody tr th:only-of-type {\n",
       "        vertical-align: middle;\n",
       "    }\n",
       "\n",
       "    .dataframe tbody tr th {\n",
       "        vertical-align: top;\n",
       "    }\n",
       "\n",
       "    .dataframe thead th {\n",
       "        text-align: right;\n",
       "    }\n",
       "</style>\n",
       "<table border=\"1\" class=\"dataframe\">\n",
       "  <thead>\n",
       "    <tr style=\"text-align: right;\">\n",
       "      <th></th>\n",
       "      <th>Game_ID</th>\n",
       "      <th>Game_Time</th>\n",
       "      <th>Period_Number</th>\n",
       "      <th>X_Coordinate</th>\n",
       "      <th>Y_Coordinate</th>\n",
       "      <th>Distance</th>\n",
       "      <th>Angle</th>\n",
       "      <th>Shot_or_Goal</th>\n",
       "      <th>Change_ID</th>\n",
       "      <th>Pre_type</th>\n",
       "      <th>Pre_X</th>\n",
       "      <th>Pre_Y</th>\n",
       "      <th>Dist_from_LastEvnt</th>\n",
       "      <th>Rebond</th>\n",
       "      <th>Changement_d'angle_de_tir</th>\n",
       "      <th>Time_Since_LastEvnt</th>\n",
       "    </tr>\n",
       "  </thead>\n",
       "  <tbody>\n",
       "    <tr>\n",
       "      <th>0</th>\n",
       "      <td>2015020001</td>\n",
       "      <td>51</td>\n",
       "      <td>1</td>\n",
       "      <td>-55.0</td>\n",
       "      <td>6.0</td>\n",
       "      <td>35.510562</td>\n",
       "      <td>9.727579</td>\n",
       "      <td>Shot</td>\n",
       "      <td>False</td>\n",
       "      <td>NaN</td>\n",
       "      <td>NaN</td>\n",
       "      <td>NaN</td>\n",
       "      <td>NaN</td>\n",
       "      <td>False</td>\n",
       "      <td>0</td>\n",
       "      <td>NaN</td>\n",
       "    </tr>\n",
       "    <tr>\n",
       "      <th>1</th>\n",
       "      <td>2015020001</td>\n",
       "      <td>64</td>\n",
       "      <td>1</td>\n",
       "      <td>-79.0</td>\n",
       "      <td>0.0</td>\n",
       "      <td>11.000000</td>\n",
       "      <td>0.000000</td>\n",
       "      <td>Shot</td>\n",
       "      <td>True</td>\n",
       "      <td>Shot</td>\n",
       "      <td>-55.0</td>\n",
       "      <td>6.0</td>\n",
       "      <td>24.738634</td>\n",
       "      <td>True</td>\n",
       "      <td>1</td>\n",
       "      <td>13.0</td>\n",
       "    </tr>\n",
       "    <tr>\n",
       "      <th>2</th>\n",
       "      <td>2015020001</td>\n",
       "      <td>66</td>\n",
       "      <td>1</td>\n",
       "      <td>-75.0</td>\n",
       "      <td>-1.0</td>\n",
       "      <td>15.033296</td>\n",
       "      <td>-3.814075</td>\n",
       "      <td>Shot</td>\n",
       "      <td>True</td>\n",
       "      <td>Shot</td>\n",
       "      <td>-79.0</td>\n",
       "      <td>0.0</td>\n",
       "      <td>4.123106</td>\n",
       "      <td>True</td>\n",
       "      <td>1</td>\n",
       "      <td>2.0</td>\n",
       "    </tr>\n",
       "    <tr>\n",
       "      <th>3</th>\n",
       "      <td>2015020001</td>\n",
       "      <td>112</td>\n",
       "      <td>1</td>\n",
       "      <td>-55.0</td>\n",
       "      <td>-36.0</td>\n",
       "      <td>50.209561</td>\n",
       "      <td>-45.806929</td>\n",
       "      <td>Shot</td>\n",
       "      <td>True</td>\n",
       "      <td>Shot</td>\n",
       "      <td>-75.0</td>\n",
       "      <td>-1.0</td>\n",
       "      <td>40.311289</td>\n",
       "      <td>True</td>\n",
       "      <td>1</td>\n",
       "      <td>46.0</td>\n",
       "    </tr>\n",
       "    <tr>\n",
       "      <th>4</th>\n",
       "      <td>2015020001</td>\n",
       "      <td>156</td>\n",
       "      <td>1</td>\n",
       "      <td>-61.0</td>\n",
       "      <td>-1.0</td>\n",
       "      <td>29.017236</td>\n",
       "      <td>-1.974934</td>\n",
       "      <td>Shot</td>\n",
       "      <td>True</td>\n",
       "      <td>Shot</td>\n",
       "      <td>-55.0</td>\n",
       "      <td>-36.0</td>\n",
       "      <td>35.510562</td>\n",
       "      <td>True</td>\n",
       "      <td>1</td>\n",
       "      <td>44.0</td>\n",
       "    </tr>\n",
       "  </tbody>\n",
       "</table>\n",
       "</div>"
      ],
      "text/plain": [
       "      Game_ID  Game_Time  Period_Number  X_Coordinate  Y_Coordinate  \\\n",
       "0  2015020001         51              1         -55.0           6.0   \n",
       "1  2015020001         64              1         -79.0           0.0   \n",
       "2  2015020001         66              1         -75.0          -1.0   \n",
       "3  2015020001        112              1         -55.0         -36.0   \n",
       "4  2015020001        156              1         -61.0          -1.0   \n",
       "\n",
       "    Distance      Angle Shot_or_Goal  Change_ID Pre_type  Pre_X  Pre_Y  \\\n",
       "0  35.510562   9.727579         Shot      False      NaN    NaN    NaN   \n",
       "1  11.000000   0.000000         Shot       True     Shot  -55.0    6.0   \n",
       "2  15.033296  -3.814075         Shot       True     Shot  -79.0    0.0   \n",
       "3  50.209561 -45.806929         Shot       True     Shot  -75.0   -1.0   \n",
       "4  29.017236  -1.974934         Shot       True     Shot  -55.0  -36.0   \n",
       "\n",
       "   Dist_from_LastEvnt  Rebond  Changement_d'angle_de_tir  Time_Since_LastEvnt  \n",
       "0                 NaN   False                          0                  NaN  \n",
       "1           24.738634    True                          1                 13.0  \n",
       "2            4.123106    True                          1                  2.0  \n",
       "3           40.311289    True                          1                 46.0  \n",
       "4           35.510562    True                          1                 44.0  "
      ]
     },
     "execution_count": 87,
     "metadata": {},
     "output_type": "execute_result"
    }
   ],
   "source": [
    "df_train_val.head()"
   ]
  },
  {
   "cell_type": "markdown",
   "metadata": {},
   "source": [
    "## Question 4.3: New Features"
   ]
  },
  {
   "cell_type": "code",
   "execution_count": 82,
   "metadata": {},
   "outputs": [],
   "source": [
    "df_train_val[\"Rebond\"] = [df_train_val.Shot_or_Goal[i] == df_train_val.Pre_type[i] for i in range(len(df_train_val))]"
   ]
  },
  {
   "cell_type": "code",
   "execution_count": 83,
   "metadata": {},
   "outputs": [],
   "source": [
    "df_train_val[\"Changement_d'angle_de_tir\"] = [int(df_train_val.Rebond[i]) for i in range(len(df_train_val))]"
   ]
  },
  {
   "cell_type": "code",
   "execution_count": 88,
   "metadata": {},
   "outputs": [],
   "source": [
    "df_train_val[\"Vitesse\"] = df_train_val.Dist_from_LastEvnt/df_train_val.Time_Since_LastEvnt"
   ]
  },
  {
   "cell_type": "code",
   "execution_count": 91,
   "metadata": {},
   "outputs": [
    {
     "data": {
      "text/html": [
       "<div>\n",
       "<style scoped>\n",
       "    .dataframe tbody tr th:only-of-type {\n",
       "        vertical-align: middle;\n",
       "    }\n",
       "\n",
       "    .dataframe tbody tr th {\n",
       "        vertical-align: top;\n",
       "    }\n",
       "\n",
       "    .dataframe thead th {\n",
       "        text-align: right;\n",
       "    }\n",
       "</style>\n",
       "<table border=\"1\" class=\"dataframe\">\n",
       "  <thead>\n",
       "    <tr style=\"text-align: right;\">\n",
       "      <th></th>\n",
       "      <th>Game_ID</th>\n",
       "      <th>Game_Time</th>\n",
       "      <th>Period_Number</th>\n",
       "      <th>X_Coordinate</th>\n",
       "      <th>Y_Coordinate</th>\n",
       "      <th>Distance</th>\n",
       "      <th>Angle</th>\n",
       "      <th>Shot_or_Goal</th>\n",
       "      <th>Change_ID</th>\n",
       "      <th>Pre_type</th>\n",
       "      <th>Pre_X</th>\n",
       "      <th>Pre_Y</th>\n",
       "      <th>Dist_from_LastEvnt</th>\n",
       "      <th>Rebond</th>\n",
       "      <th>Changement_d'angle_de_tir</th>\n",
       "      <th>Time_Since_LastEvnt</th>\n",
       "      <th>Vitesse</th>\n",
       "    </tr>\n",
       "  </thead>\n",
       "  <tbody>\n",
       "    <tr>\n",
       "      <th>0</th>\n",
       "      <td>2015020001</td>\n",
       "      <td>51</td>\n",
       "      <td>1</td>\n",
       "      <td>-55.0</td>\n",
       "      <td>6.0</td>\n",
       "      <td>35.510562</td>\n",
       "      <td>9.727579</td>\n",
       "      <td>Shot</td>\n",
       "      <td>False</td>\n",
       "      <td>NaN</td>\n",
       "      <td>NaN</td>\n",
       "      <td>NaN</td>\n",
       "      <td>NaN</td>\n",
       "      <td>False</td>\n",
       "      <td>0</td>\n",
       "      <td>NaN</td>\n",
       "      <td>NaN</td>\n",
       "    </tr>\n",
       "    <tr>\n",
       "      <th>1</th>\n",
       "      <td>2015020001</td>\n",
       "      <td>64</td>\n",
       "      <td>1</td>\n",
       "      <td>-79.0</td>\n",
       "      <td>0.0</td>\n",
       "      <td>11.000000</td>\n",
       "      <td>0.000000</td>\n",
       "      <td>Shot</td>\n",
       "      <td>True</td>\n",
       "      <td>Shot</td>\n",
       "      <td>-55.0</td>\n",
       "      <td>6.0</td>\n",
       "      <td>24.738634</td>\n",
       "      <td>True</td>\n",
       "      <td>1</td>\n",
       "      <td>13.0</td>\n",
       "      <td>1.902972</td>\n",
       "    </tr>\n",
       "    <tr>\n",
       "      <th>2</th>\n",
       "      <td>2015020001</td>\n",
       "      <td>66</td>\n",
       "      <td>1</td>\n",
       "      <td>-75.0</td>\n",
       "      <td>-1.0</td>\n",
       "      <td>15.033296</td>\n",
       "      <td>-3.814075</td>\n",
       "      <td>Shot</td>\n",
       "      <td>True</td>\n",
       "      <td>Shot</td>\n",
       "      <td>-79.0</td>\n",
       "      <td>0.0</td>\n",
       "      <td>4.123106</td>\n",
       "      <td>True</td>\n",
       "      <td>1</td>\n",
       "      <td>2.0</td>\n",
       "      <td>2.061553</td>\n",
       "    </tr>\n",
       "    <tr>\n",
       "      <th>3</th>\n",
       "      <td>2015020001</td>\n",
       "      <td>112</td>\n",
       "      <td>1</td>\n",
       "      <td>-55.0</td>\n",
       "      <td>-36.0</td>\n",
       "      <td>50.209561</td>\n",
       "      <td>-45.806929</td>\n",
       "      <td>Shot</td>\n",
       "      <td>True</td>\n",
       "      <td>Shot</td>\n",
       "      <td>-75.0</td>\n",
       "      <td>-1.0</td>\n",
       "      <td>40.311289</td>\n",
       "      <td>True</td>\n",
       "      <td>1</td>\n",
       "      <td>46.0</td>\n",
       "      <td>0.876332</td>\n",
       "    </tr>\n",
       "    <tr>\n",
       "      <th>4</th>\n",
       "      <td>2015020001</td>\n",
       "      <td>156</td>\n",
       "      <td>1</td>\n",
       "      <td>-61.0</td>\n",
       "      <td>-1.0</td>\n",
       "      <td>29.017236</td>\n",
       "      <td>-1.974934</td>\n",
       "      <td>Shot</td>\n",
       "      <td>True</td>\n",
       "      <td>Shot</td>\n",
       "      <td>-55.0</td>\n",
       "      <td>-36.0</td>\n",
       "      <td>35.510562</td>\n",
       "      <td>True</td>\n",
       "      <td>1</td>\n",
       "      <td>44.0</td>\n",
       "      <td>0.807058</td>\n",
       "    </tr>\n",
       "  </tbody>\n",
       "</table>\n",
       "</div>"
      ],
      "text/plain": [
       "      Game_ID  Game_Time  Period_Number  X_Coordinate  Y_Coordinate  \\\n",
       "0  2015020001         51              1         -55.0           6.0   \n",
       "1  2015020001         64              1         -79.0           0.0   \n",
       "2  2015020001         66              1         -75.0          -1.0   \n",
       "3  2015020001        112              1         -55.0         -36.0   \n",
       "4  2015020001        156              1         -61.0          -1.0   \n",
       "\n",
       "    Distance      Angle Shot_or_Goal  Change_ID Pre_type  Pre_X  Pre_Y  \\\n",
       "0  35.510562   9.727579         Shot      False      NaN    NaN    NaN   \n",
       "1  11.000000   0.000000         Shot       True     Shot  -55.0    6.0   \n",
       "2  15.033296  -3.814075         Shot       True     Shot  -79.0    0.0   \n",
       "3  50.209561 -45.806929         Shot       True     Shot  -75.0   -1.0   \n",
       "4  29.017236  -1.974934         Shot       True     Shot  -55.0  -36.0   \n",
       "\n",
       "   Dist_from_LastEvnt  Rebond  Changement_d'angle_de_tir  Time_Since_LastEvnt  \\\n",
       "0                 NaN   False                          0                  NaN   \n",
       "1           24.738634    True                          1                 13.0   \n",
       "2            4.123106    True                          1                  2.0   \n",
       "3           40.311289    True                          1                 46.0   \n",
       "4           35.510562    True                          1                 44.0   \n",
       "\n",
       "    Vitesse  \n",
       "0       NaN  \n",
       "1  1.902972  \n",
       "2  2.061553  \n",
       "3  0.876332  \n",
       "4  0.807058  "
      ]
     },
     "execution_count": 91,
     "metadata": {},
     "output_type": "execute_result"
    }
   ],
   "source": [
    "df_train_val.head()"
   ]
  },
  {
   "cell_type": "markdown",
   "metadata": {},
   "source": [
    "## Question 4.5: Comet "
   ]
  },
  {
   "cell_type": "code",
   "execution_count": 90,
   "metadata": {},
   "outputs": [
    {
     "name": "stderr",
     "output_type": "stream",
     "text": [
      "COMET INFO: ---------------------------\n",
      "COMET INFO: Comet.ml Experiment Summary\n",
      "COMET INFO: ---------------------------\n",
      "COMET INFO:   Data:\n",
      "COMET INFO:     display_summary_level : 1\n",
      "COMET INFO:     url                   : https://www.comet.com/teylouniseifu/ift-6758-a22/f80d9387fd13412fa8cd14de5f01f52a\n",
      "COMET INFO:   Uploads:\n",
      "COMET INFO:     dataframe                : 1 (9.97 KB)\n",
      "COMET INFO:     environment details      : 1\n",
      "COMET INFO:     filename                 : 1\n",
      "COMET INFO:     git metadata             : 1\n",
      "COMET INFO:     git-patch (uncompressed) : 1 (717.58 KB)\n",
      "COMET INFO:     installed packages       : 1\n",
      "COMET INFO:     notebook                 : 1\n",
      "COMET INFO:     source_code              : 1\n",
      "COMET INFO: ---------------------------\n",
      "COMET WARNING: As you are running in a Jupyter environment, you will need to call `experiment.end()` when finished to ensure all metrics and code are logged before exiting.\n",
      "COMET INFO: Experiment is live on comet.com https://www.comet.com/teylouniseifu/ift-6758-a22/2ff23b4950624386815d29f852b553c4\n",
      "\n",
      "COMET WARNING: pandas_profiling is required to log profile; ignoring\n"
     ]
    },
    {
     "data": {
      "text/plain": [
       "{'profile': None,\n",
       " 'dataframe': {'web': 'https://www.comet.com/api/asset/download?assetId=c10bd558e06a4bf799c7b8ae0aabb33f&experimentKey=2ff23b4950624386815d29f852b553c4',\n",
       "  'api': 'https://www.comet.com/api/rest/v2/experiment/asset/get-asset?assetId=c10bd558e06a4bf799c7b8ae0aabb33f&experimentKey=2ff23b4950624386815d29f852b553c4',\n",
       "  'assetId': 'c10bd558e06a4bf799c7b8ae0aabb33f'}}"
      ]
     },
     "execution_count": 90,
     "metadata": {},
     "output_type": "execute_result"
    }
   ],
   "source": [
    "from comet_ml import Experiment\n",
    "\n",
    "experiment = Experiment(\n",
    "    api_key=\"uHUS5l41WlDGkxYpJJMkBaLYd\",\n",
    "    project_name=\"ift-6758-a22\",\n",
    "    workspace=\"teylouniseifu\",\n",
    ")\n",
    "experiment.log_dataframe_profile(\n",
    "    df_train_val.loc[df_train_val.Game_ID == 2017021065],\n",
    "    name='wpg_v_wsh_2017021065', # keep this name\n",
    "    dataframe_format='csv' # ensure you set this flag!\n",
    ")"
   ]
  }
 ],
 "metadata": {
  "kernelspec": {
   "display_name": "Python 3 (ipykernel)",
   "language": "python",
   "name": "python3"
  },
  "language_info": {
   "codemirror_mode": {
    "name": "ipython",
    "version": 3
   },
   "file_extension": ".py",
   "mimetype": "text/x-python",
   "name": "python",
   "nbconvert_exporter": "python",
   "pygments_lexer": "ipython3",
   "version": "3.9.15"
  },
  "vscode": {
   "interpreter": {
    "hash": "25a19fbe0a9132dfb9279d48d161753c6352f8f9478c2e74383d340069b907c3"
   }
  }
 },
 "nbformat": 4,
 "nbformat_minor": 4
}
