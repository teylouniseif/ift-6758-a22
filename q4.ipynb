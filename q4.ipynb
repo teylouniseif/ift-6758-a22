{
 "cells": [
  {
   "cell_type": "code",
   "execution_count": 1,
   "metadata": {},
   "outputs": [],
   "source": [
    "import pandas as pd"
   ]
  },
  {
   "cell_type": "markdown",
   "metadata": {},
   "source": [
    "## Lire les donnees via l'api"
   ]
  },
  {
   "cell_type": "code",
   "execution_count": null,
   "metadata": {},
   "outputs": [],
   "source": [
    "from milestone1.question1 import get_play_by_play_season_gameType\n",
    "\n",
    "match_type = 2\n",
    "\n",
    "get_play_by_play_season_gameType(\"2015\",\"0\"+str(match_type),\"milestone1/data_saved/play_by_play\")\n",
    "get_play_by_play_season_gameType(\"2016\",\"0\"+str(match_type),\"milestone1/data_saved/play_by_play\")\n",
    "get_play_by_play_season_gameType(\"2017\",\"0\"+str(match_type),\"milestone1/data_saved/play_by_play\")\n",
    "get_play_by_play_season_gameType(\"2018\",\"0\"+str(match_type),\"milestone1/data_saved/play_by_play\")\n",
    "get_play_by_play_season_gameType(\"2019\",\"0\"+str(match_type),\"milestone1/data_saved/play_by_play\")"
   ]
  },
  {
   "cell_type": "markdown",
   "metadata": {},
   "source": [
    "## Creer les dataframes de test et train/val"
   ]
  },
  {
   "cell_type": "code",
   "execution_count": 1,
   "metadata": {},
   "outputs": [],
   "source": [
    "from milestone1.question4 import *\n",
    "\n",
    "#les donnes des saisons régulière seulement!\n",
    "directory2015 = r'data_saved/play_by_play/2015/regular'\n",
    "directory2016 = r'data_saved/play_by_play/2016/regular'\n",
    "directory2017 = r'data_saved/play_by_play/2017/regular'\n",
    "directory2018 = r'data_saved/play_by_play/2018/regular'\n",
    "directory2019 = r'data_saved/play_by_play/2019/regular'\n",
    "\n",
    "\n",
    "df2015 = create_full_df(directory=directory2015)\n",
    "df2016 = create_full_df(directory=directory2016)\n",
    "df2017 = create_full_df(directory=directory2017)\n",
    "df2018 = create_full_df(directory=directory2018)\n",
    "\n",
    "# 2019/20 comme l' ensemble final des données test.\n",
    "df2019 = create_full_df(directory=directory2019)\n"
   ]
  },
  {
   "cell_type": "code",
   "execution_count": 11,
   "metadata": {},
   "outputs": [
    {
     "ename": "NameError",
     "evalue": "name 'add_power_play' is not defined",
     "output_type": "error",
     "traceback": [
      "\u001b[1;31m---------------------------------------------------------------------------\u001b[0m",
      "\u001b[1;31mNameError\u001b[0m                                 Traceback (most recent call last)",
      "\u001b[1;32mc:\\Users\\jager\\OneDrive\\Bureau\\Uni\\udem\\DataScience\\Devoir1\\ift-6758-a22\\q4.ipynb Cellule 6\u001b[0m in \u001b[0;36m<cell line: 3>\u001b[1;34m()\u001b[0m\n\u001b[0;32m      <a href='vscode-notebook-cell:/c%3A/Users/jager/OneDrive/Bureau/Uni/udem/DataScience/Devoir1/ift-6758-a22/q4.ipynb#X32sZmlsZQ%3D%3D?line=0'>1</a>\u001b[0m \u001b[39mfrom\u001b[39;00m \u001b[39mmilestone2\u001b[39;00m\u001b[39m.\u001b[39;00m\u001b[39mquestion4\u001b[39;00m \u001b[39mimport\u001b[39;00m \u001b[39m*\u001b[39m\n\u001b[1;32m----> <a href='vscode-notebook-cell:/c%3A/Users/jager/OneDrive/Bureau/Uni/udem/DataScience/Devoir1/ift-6758-a22/q4.ipynb#X32sZmlsZQ%3D%3D?line=2'>3</a>\u001b[0m df2015 \u001b[39m=\u001b[39m add_power_play(df2015, directory2015)\n\u001b[0;32m      <a href='vscode-notebook-cell:/c%3A/Users/jager/OneDrive/Bureau/Uni/udem/DataScience/Devoir1/ift-6758-a22/q4.ipynb#X32sZmlsZQ%3D%3D?line=3'>4</a>\u001b[0m df2016 \u001b[39m=\u001b[39m add_power_play(df2016, directory2015)\n\u001b[0;32m      <a href='vscode-notebook-cell:/c%3A/Users/jager/OneDrive/Bureau/Uni/udem/DataScience/Devoir1/ift-6758-a22/q4.ipynb#X32sZmlsZQ%3D%3D?line=4'>5</a>\u001b[0m df2017 \u001b[39m=\u001b[39m add_power_play(df2017, directory2015)\n",
      "\u001b[1;31mNameError\u001b[0m: name 'add_power_play' is not defined"
     ]
    }
   ],
   "source": [
    "#Question 4.4 Bonus\n",
    "from milestone2.question4 import *\n",
    "\n",
    "df2015 = add_power_play(df2015, directory2015)\n",
    "df2016 = add_power_play(df2016, directory2016)\n",
    "df2017 = add_power_play(df2017, directory2017)\n",
    "df2018 = add_power_play(df2018, directory2018)\n",
    "df2019 = add_power_play(df2019, directory2019)"
   ]
  },
  {
   "cell_type": "code",
   "execution_count": 2,
   "metadata": {},
   "outputs": [],
   "source": [
    "df15_16 = pd.concat([df2015, df2016], ignore_index=True)\n",
    "df17_18 = pd.concat([df2017, df2018], ignore_index=True)\n",
    "\n",
    "#utilise les données 2015/16 - 2018/19 de la saison régulière pour créer vos ensembles d'entraînement et de validation.\n",
    "df_train_val =  pd.concat([df15_16, df17_18], ignore_index=True)"
   ]
  },
  {
   "cell_type": "code",
   "execution_count": 3,
   "metadata": {},
   "outputs": [
    {
     "name": "stdout",
     "output_type": "stream",
     "text": [
      "      Game_ID  Event_ID  Period_Number Period_Time  Game_Time Shot_or_Goal  \\\n",
      "0  2015020001         7              1       00:51       0.85         Shot   \n",
      "1  2015020001         9              1       01:05       1.80         Shot   \n",
      "2  2015020001        10              1       01:06       1.10         Shot   \n",
      "3  2015020001        13              1       01:53       1.88         Shot   \n",
      "4  2015020001        21              1       02:37       2.61         Shot   \n",
      "\n",
      "    Shot_Type        Shooter Team_of_Shooter       Goalie Empty_Net  \\\n",
      "0  Wrist Shot     Brad Boyes             TOR  Carey Price       NaN   \n",
      "1   Snap Shot    Nazem Kadri             TOR  Carey Price       NaN   \n",
      "2   Snap Shot    Nazem Kadri             TOR  Carey Price       NaN   \n",
      "3  Wrist Shot  Daniel Winnik             TOR  Carey Price       NaN   \n",
      "4      Tip-In  Joffrey Lupul             TOR  Carey Price       NaN   \n",
      "\n",
      "  Goal_Strength  X_Coordinate  Y_Coordinate   Distance      Angle  Est_un_but  \\\n",
      "0           NaN         -55.0           6.0  35.510562   9.727579           0   \n",
      "1           NaN         -79.0           0.0  11.000000   0.000000           0   \n",
      "2           NaN         -75.0          -1.0  15.033296  -3.814075           0   \n",
      "3           NaN         -55.0         -36.0  50.209561 -45.806929           0   \n",
      "4           NaN         -61.0          -1.0  29.017236  -1.974934           0   \n",
      "\n",
      "   Filet_vide  \n",
      "0           1  \n",
      "1           1  \n",
      "2           1  \n",
      "3           1  \n",
      "4           1  \n"
     ]
    }
   ],
   "source": [
    "print(df_train_val.head())"
   ]
  },
  {
   "cell_type": "code",
   "execution_count": 7,
   "metadata": {},
   "outputs": [
    {
     "name": "stdout",
     "output_type": "stream",
     "text": [
      "int64\n"
     ]
    }
   ],
   "source": [
    "print(df_train_val[\"Game_ID\"].dtypes)"
   ]
  },
  {
   "cell_type": "markdown",
   "metadata": {},
   "source": [
    "## Question 4.1: Features management"
   ]
  },
  {
   "cell_type": "code",
   "execution_count": 5,
   "metadata": {},
   "outputs": [],
   "source": [
    "df_train_val = df_train_val[[\"Game_Time\",\"Period_Number\", \"X_Coordinate\", \"Y_Coordinate\", \"Distance\", \"Angle\", \"Shot_or_Goal\", \"pwplay_RemainingTime\", \"pwplay_fplayer\", \"pwplay_eplayer\"]]"
   ]
  },
  {
   "cell_type": "markdown",
   "metadata": {},
   "source": [
    "## Question 4.2: Previous elements infos"
   ]
  },
  {
   "cell_type": "code",
   "execution_count": 7,
   "metadata": {},
   "outputs": [],
   "source": [
    "df_train_val[\"Game_Time\"] = (df_train_val[\"Game_Time\"]*60).apply(lambda x: int(x))"
   ]
  },
  {
   "cell_type": "code",
   "execution_count": 8,
   "metadata": {},
   "outputs": [],
   "source": [
    "df_train_val[\"Pre_type\"] = [np.nan] + [df_train_val.Shot_or_Goal[i-1] for i in range(1,len(df_train_val.Shot_or_Goal))]"
   ]
  },
  {
   "cell_type": "code",
   "execution_count": 9,
   "metadata": {},
   "outputs": [],
   "source": [
    "df_train_val[\"Pre_X\"] = [np.nan] + [df_train_val.X_Coordinate[i-1] for i in range(1,len(df_train_val))]"
   ]
  },
  {
   "cell_type": "code",
   "execution_count": 10,
   "metadata": {},
   "outputs": [],
   "source": [
    "df_train_val[\"Pre_Y\"] = [np.nan] + [df_train_val.Y_Coordinate[i-1] for i in range(1,len(df_train_val))]"
   ]
  },
  {
   "cell_type": "code",
   "execution_count": 11,
   "metadata": {},
   "outputs": [],
   "source": [
    "df_train_val[\"Time_Since_LastEvnt\"] = abs(df_train_val[\"Game_Time\"].diff())"
   ]
  },
  {
   "cell_type": "code",
   "execution_count": 19,
   "metadata": {},
   "outputs": [],
   "source": [
    "df_train_val[\"Dist_from_LastEvnt\"] = [abs(np.linalg.norm(np.array([df_train_val.X_Coordinate[i], df_train_val.Y_Coordinate[i]]) - np.array([df_train_val.Pre_X[i], df_train_val.Pre_Y[i]]))) for i in range(len(df_train_val))]"
   ]
  },
  {
   "cell_type": "code",
   "execution_count": 20,
   "metadata": {},
   "outputs": [
    {
     "data": {
      "text/html": [
       "<div>\n",
       "<style scoped>\n",
       "    .dataframe tbody tr th:only-of-type {\n",
       "        vertical-align: middle;\n",
       "    }\n",
       "\n",
       "    .dataframe tbody tr th {\n",
       "        vertical-align: top;\n",
       "    }\n",
       "\n",
       "    .dataframe thead th {\n",
       "        text-align: right;\n",
       "    }\n",
       "</style>\n",
       "<table border=\"1\" class=\"dataframe\">\n",
       "  <thead>\n",
       "    <tr style=\"text-align: right;\">\n",
       "      <th></th>\n",
       "      <th>Game_Time</th>\n",
       "      <th>Period_Number</th>\n",
       "      <th>X_Coordinate</th>\n",
       "      <th>Y_Coordinate</th>\n",
       "      <th>Distance</th>\n",
       "      <th>Angle</th>\n",
       "      <th>Shot_or_Goal</th>\n",
       "      <th>Pre_type</th>\n",
       "      <th>Pre_X</th>\n",
       "      <th>Pre_Y</th>\n",
       "      <th>Time_Since_LastEvnt</th>\n",
       "      <th>Dist_from_LastEvnt</th>\n",
       "    </tr>\n",
       "  </thead>\n",
       "  <tbody>\n",
       "    <tr>\n",
       "      <th>0</th>\n",
       "      <td>51</td>\n",
       "      <td>1</td>\n",
       "      <td>-55.0</td>\n",
       "      <td>6.0</td>\n",
       "      <td>35.510562</td>\n",
       "      <td>9.727579</td>\n",
       "      <td>Shot</td>\n",
       "      <td>NaN</td>\n",
       "      <td>NaN</td>\n",
       "      <td>NaN</td>\n",
       "      <td>NaN</td>\n",
       "      <td>NaN</td>\n",
       "    </tr>\n",
       "    <tr>\n",
       "      <th>1</th>\n",
       "      <td>108</td>\n",
       "      <td>1</td>\n",
       "      <td>-79.0</td>\n",
       "      <td>0.0</td>\n",
       "      <td>11.000000</td>\n",
       "      <td>0.000000</td>\n",
       "      <td>Shot</td>\n",
       "      <td>Shot</td>\n",
       "      <td>-55.0</td>\n",
       "      <td>6.0</td>\n",
       "      <td>57.0</td>\n",
       "      <td>24.738634</td>\n",
       "    </tr>\n",
       "    <tr>\n",
       "      <th>2</th>\n",
       "      <td>66</td>\n",
       "      <td>1</td>\n",
       "      <td>-75.0</td>\n",
       "      <td>-1.0</td>\n",
       "      <td>15.033296</td>\n",
       "      <td>-3.814075</td>\n",
       "      <td>Shot</td>\n",
       "      <td>Shot</td>\n",
       "      <td>-79.0</td>\n",
       "      <td>0.0</td>\n",
       "      <td>42.0</td>\n",
       "      <td>4.123106</td>\n",
       "    </tr>\n",
       "    <tr>\n",
       "      <th>3</th>\n",
       "      <td>112</td>\n",
       "      <td>1</td>\n",
       "      <td>-55.0</td>\n",
       "      <td>-36.0</td>\n",
       "      <td>50.209561</td>\n",
       "      <td>-45.806929</td>\n",
       "      <td>Shot</td>\n",
       "      <td>Shot</td>\n",
       "      <td>-75.0</td>\n",
       "      <td>-1.0</td>\n",
       "      <td>46.0</td>\n",
       "      <td>40.311289</td>\n",
       "    </tr>\n",
       "    <tr>\n",
       "      <th>4</th>\n",
       "      <td>156</td>\n",
       "      <td>1</td>\n",
       "      <td>-61.0</td>\n",
       "      <td>-1.0</td>\n",
       "      <td>29.017236</td>\n",
       "      <td>-1.974934</td>\n",
       "      <td>Shot</td>\n",
       "      <td>Shot</td>\n",
       "      <td>-55.0</td>\n",
       "      <td>-36.0</td>\n",
       "      <td>44.0</td>\n",
       "      <td>35.510562</td>\n",
       "    </tr>\n",
       "  </tbody>\n",
       "</table>\n",
       "</div>"
      ],
      "text/plain": [
       "   Game_Time  Period_Number  X_Coordinate  Y_Coordinate   Distance      Angle  \\\n",
       "0         51              1         -55.0           6.0  35.510562   9.727579   \n",
       "1        108              1         -79.0           0.0  11.000000   0.000000   \n",
       "2         66              1         -75.0          -1.0  15.033296  -3.814075   \n",
       "3        112              1         -55.0         -36.0  50.209561 -45.806929   \n",
       "4        156              1         -61.0          -1.0  29.017236  -1.974934   \n",
       "\n",
       "  Shot_or_Goal Pre_type  Pre_X  Pre_Y  Time_Since_LastEvnt  Dist_from_LastEvnt  \n",
       "0         Shot      NaN    NaN    NaN                  NaN                 NaN  \n",
       "1         Shot     Shot  -55.0    6.0                 57.0           24.738634  \n",
       "2         Shot     Shot  -79.0    0.0                 42.0            4.123106  \n",
       "3         Shot     Shot  -75.0   -1.0                 46.0           40.311289  \n",
       "4         Shot     Shot  -55.0  -36.0                 44.0           35.510562  "
      ]
     },
     "execution_count": 20,
     "metadata": {},
     "output_type": "execute_result"
    }
   ],
   "source": [
    "df_train_val.head()"
   ]
  },
  {
   "cell_type": "markdown",
   "metadata": {},
   "source": [
    "## Question 4.3: New Features"
   ]
  },
  {
   "cell_type": "code",
   "execution_count": 21,
   "metadata": {},
   "outputs": [],
   "source": [
    "df_train_val[\"Rebond\"] = [df_train_val.Shot_or_Goal[i] == df_train_val.Pre_type[i] for i in range(len(df_train_val))]"
   ]
  },
  {
   "cell_type": "code",
   "execution_count": 22,
   "metadata": {},
   "outputs": [],
   "source": [
    "df_train_val[\"Changement_d'angle_de_tir\"] = [int(df_train_val.Rebond[i]) for i in range(len(df_train_val))]"
   ]
  },
  {
   "cell_type": "code",
   "execution_count": 25,
   "metadata": {},
   "outputs": [],
   "source": [
    "df_train_val[\"Vitesse\"] = df_train_val.Dist_from_LastEvnt/df_train_val.Time_Since_LastEvnt"
   ]
  },
  {
   "cell_type": "code",
   "execution_count": 26,
   "metadata": {},
   "outputs": [
    {
     "data": {
      "text/html": [
       "<div>\n",
       "<style scoped>\n",
       "    .dataframe tbody tr th:only-of-type {\n",
       "        vertical-align: middle;\n",
       "    }\n",
       "\n",
       "    .dataframe tbody tr th {\n",
       "        vertical-align: top;\n",
       "    }\n",
       "\n",
       "    .dataframe thead th {\n",
       "        text-align: right;\n",
       "    }\n",
       "</style>\n",
       "<table border=\"1\" class=\"dataframe\">\n",
       "  <thead>\n",
       "    <tr style=\"text-align: right;\">\n",
       "      <th></th>\n",
       "      <th>Game_Time</th>\n",
       "      <th>Period_Number</th>\n",
       "      <th>X_Coordinate</th>\n",
       "      <th>Y_Coordinate</th>\n",
       "      <th>Distance</th>\n",
       "      <th>Angle</th>\n",
       "      <th>Shot_or_Goal</th>\n",
       "      <th>Pre_type</th>\n",
       "      <th>Pre_X</th>\n",
       "      <th>Pre_Y</th>\n",
       "      <th>Time_Since_LastEvnt</th>\n",
       "      <th>Dist_from_LastEvnt</th>\n",
       "      <th>Rebond</th>\n",
       "      <th>Changement_d'angle_de_tir</th>\n",
       "      <th>Vitesse</th>\n",
       "    </tr>\n",
       "  </thead>\n",
       "  <tbody>\n",
       "    <tr>\n",
       "      <th>0</th>\n",
       "      <td>51</td>\n",
       "      <td>1</td>\n",
       "      <td>-55.0</td>\n",
       "      <td>6.0</td>\n",
       "      <td>35.510562</td>\n",
       "      <td>9.727579</td>\n",
       "      <td>Shot</td>\n",
       "      <td>NaN</td>\n",
       "      <td>NaN</td>\n",
       "      <td>NaN</td>\n",
       "      <td>NaN</td>\n",
       "      <td>NaN</td>\n",
       "      <td>False</td>\n",
       "      <td>0</td>\n",
       "      <td>NaN</td>\n",
       "    </tr>\n",
       "    <tr>\n",
       "      <th>1</th>\n",
       "      <td>108</td>\n",
       "      <td>1</td>\n",
       "      <td>-79.0</td>\n",
       "      <td>0.0</td>\n",
       "      <td>11.000000</td>\n",
       "      <td>0.000000</td>\n",
       "      <td>Shot</td>\n",
       "      <td>Shot</td>\n",
       "      <td>-55.0</td>\n",
       "      <td>6.0</td>\n",
       "      <td>57.0</td>\n",
       "      <td>24.738634</td>\n",
       "      <td>True</td>\n",
       "      <td>1</td>\n",
       "      <td>0.434011</td>\n",
       "    </tr>\n",
       "    <tr>\n",
       "      <th>2</th>\n",
       "      <td>66</td>\n",
       "      <td>1</td>\n",
       "      <td>-75.0</td>\n",
       "      <td>-1.0</td>\n",
       "      <td>15.033296</td>\n",
       "      <td>-3.814075</td>\n",
       "      <td>Shot</td>\n",
       "      <td>Shot</td>\n",
       "      <td>-79.0</td>\n",
       "      <td>0.0</td>\n",
       "      <td>42.0</td>\n",
       "      <td>4.123106</td>\n",
       "      <td>True</td>\n",
       "      <td>1</td>\n",
       "      <td>0.098169</td>\n",
       "    </tr>\n",
       "    <tr>\n",
       "      <th>3</th>\n",
       "      <td>112</td>\n",
       "      <td>1</td>\n",
       "      <td>-55.0</td>\n",
       "      <td>-36.0</td>\n",
       "      <td>50.209561</td>\n",
       "      <td>-45.806929</td>\n",
       "      <td>Shot</td>\n",
       "      <td>Shot</td>\n",
       "      <td>-75.0</td>\n",
       "      <td>-1.0</td>\n",
       "      <td>46.0</td>\n",
       "      <td>40.311289</td>\n",
       "      <td>True</td>\n",
       "      <td>1</td>\n",
       "      <td>0.876332</td>\n",
       "    </tr>\n",
       "    <tr>\n",
       "      <th>4</th>\n",
       "      <td>156</td>\n",
       "      <td>1</td>\n",
       "      <td>-61.0</td>\n",
       "      <td>-1.0</td>\n",
       "      <td>29.017236</td>\n",
       "      <td>-1.974934</td>\n",
       "      <td>Shot</td>\n",
       "      <td>Shot</td>\n",
       "      <td>-55.0</td>\n",
       "      <td>-36.0</td>\n",
       "      <td>44.0</td>\n",
       "      <td>35.510562</td>\n",
       "      <td>True</td>\n",
       "      <td>1</td>\n",
       "      <td>0.807058</td>\n",
       "    </tr>\n",
       "  </tbody>\n",
       "</table>\n",
       "</div>"
      ],
      "text/plain": [
       "   Game_Time  Period_Number  X_Coordinate  Y_Coordinate   Distance      Angle  \\\n",
       "0         51              1         -55.0           6.0  35.510562   9.727579   \n",
       "1        108              1         -79.0           0.0  11.000000   0.000000   \n",
       "2         66              1         -75.0          -1.0  15.033296  -3.814075   \n",
       "3        112              1         -55.0         -36.0  50.209561 -45.806929   \n",
       "4        156              1         -61.0          -1.0  29.017236  -1.974934   \n",
       "\n",
       "  Shot_or_Goal Pre_type  Pre_X  Pre_Y  Time_Since_LastEvnt  \\\n",
       "0         Shot      NaN    NaN    NaN                  NaN   \n",
       "1         Shot     Shot  -55.0    6.0                 57.0   \n",
       "2         Shot     Shot  -79.0    0.0                 42.0   \n",
       "3         Shot     Shot  -75.0   -1.0                 46.0   \n",
       "4         Shot     Shot  -55.0  -36.0                 44.0   \n",
       "\n",
       "   Dist_from_LastEvnt  Rebond  Changement_d'angle_de_tir   Vitesse  \n",
       "0                 NaN   False                          0       NaN  \n",
       "1           24.738634    True                          1  0.434011  \n",
       "2            4.123106    True                          1  0.098169  \n",
       "3           40.311289    True                          1  0.876332  \n",
       "4           35.510562    True                          1  0.807058  "
      ]
     },
     "execution_count": 26,
     "metadata": {},
     "output_type": "execute_result"
    }
   ],
   "source": [
    "df_train_val.head()"
   ]
  }
 ],
 "metadata": {
  "kernelspec": {
   "display_name": "Python ('DSDev1')",
   "language": "python",
   "name": "python3"
  },
  "language_info": {
   "codemirror_mode": {
    "name": "ipython",
    "version": 3
   },
   "file_extension": ".py",
   "mimetype": "text/x-python",
   "name": "python",
   "nbconvert_exporter": "python",
   "pygments_lexer": "ipython3",
   "version": ""
  },
  "orig_nbformat": 4,
  "vscode": {
   "interpreter": {
    "hash": "25a19fbe0a9132dfb9279d48d161753c6352f8f9478c2e74383d340069b907c3"
   }
  }
 },
 "nbformat": 4,
 "nbformat_minor": 2
}
