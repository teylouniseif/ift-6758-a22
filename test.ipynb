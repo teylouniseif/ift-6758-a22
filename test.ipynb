{
 "cells": [
  {
   "cell_type": "code",
   "execution_count": null,
   "metadata": {},
   "outputs": [],
   "source": [
    "from milestone1.question1 import get_play_by_play_season_gameType\n",
    "get_play_by_play_season_gameType(\"2015\",\"02\",\"milestone1/data_saved/play_by_play\")\n",
    "get_play_by_play_season_gameType(\"2015\",\"03\",\"milestone1/data_saved/play_by_play\")\n",
    "get_play_by_play_season_gameType(\"2016\",\"02\",\"milestone1/data_saved/play_by_play\")\n",
    "get_play_by_play_season_gameType(\"2016\",\"03\",\"milestone1/data_saved/play_by_play\")\n",
    "get_play_by_play_season_gameType(\"2017\",\"02\",\"milestone1/data_saved/play_by_play\")\n",
    "get_play_by_play_season_gameType(\"2017\",\"03\",\"milestone1/data_saved/play_by_play\")\n",
    "get_play_by_play_season_gameType(\"2018\",\"02\",\"milestone1/data_saved/play_by_play\")\n",
    "get_play_by_play_season_gameType(\"2018\",\"03\",\"milestone1/data_saved/play_by_play\")\n",
    "get_play_by_play_season_gameType(\"2019\",\"02\",\"milestone1/data_saved/play_by_play\")\n",
    "get_play_by_play_season_gameType(\"2019\",\"03\",\"milestone1/data_saved/play_by_play\")\n"
   ]
  },
  {
   "cell_type": "code",
   "execution_count": 1,
   "metadata": {},
   "outputs": [
    {
     "data": {
      "text/plain": [
       "'df2019 = create_full_df(directory=directory2019)\\ndf2020 = create_full_df(directory=directory2020)'"
      ]
     },
     "execution_count": 1,
     "metadata": {},
     "output_type": "execute_result"
    }
   ],
   "source": [
    "from milestone1.question4 import *\n",
    "directory2018 = r'data_saved/play_by_play/2018'\n",
    "\"\"\"directory2019 = r'data_saved/play_by_play/2019'\n",
    "directory2020 = r'data_saved/play_by_play/2020'\"\"\"\n",
    "df2018 = create_full_df(directory=directory2018)\n",
    "\"\"\"df2019 = create_full_df(directory=directory2019)\n",
    "df2020 = create_full_df(directory=directory2020)\"\"\""
   ]
  },
  {
   "cell_type": "code",
   "execution_count": 3,
   "metadata": {},
   "outputs": [
    {
     "name": "stdout",
     "output_type": "stream",
     "text": [
      "          Game_ID  Event_ID  Period_Number Period_Time  Game_Time  \\\n",
      "458    2018020684       291              3       19:00      59.00   \n",
      "601    2018020391       267              3       18:30      58.50   \n",
      "604    2018020391       272              3       19:37      59.61   \n",
      "965    2018020450       327              5       00:00      60.00   \n",
      "967    2018020450       329              5       00:00      60.00   \n",
      "...           ...       ...            ...         ...        ...   \n",
      "85371  2018030127       327              3       17:26      57.43   \n",
      "85373  2018030127       339              3       19:59      59.98   \n",
      "85420  2018030131       352              3       19:23      59.38   \n",
      "85738  2018030185       329              3       18:14      58.23   \n",
      "85795  2018030243       311              3       19:30      59.50   \n",
      "\n",
      "      Shot_or_Goal   Shot_Type            Shooter Team_of_Shooter  \\\n",
      "458           Goal  Wrist Shot        Kyle Connor             WPG   \n",
      "601           Goal  Wrist Shot      Alex Ovechkin             WSH   \n",
      "604           Goal  Wrist Shot  Nicklas Backstrom             WSH   \n",
      "965           Goal    Backhand     Mika Zibanejad             NYR   \n",
      "967           Goal   Snap Shot  Kevin Shattenkirk             NYR   \n",
      "...            ...         ...                ...             ...   \n",
      "85371         Goal  Wrist Shot      Charlie Coyle             BOS   \n",
      "85373         Goal    Backhand   Patrice Bergeron             BOS   \n",
      "85420         Goal  Wrist Shot         Lars Eller             WSH   \n",
      "85738         Goal  Wrist Shot       Joe Pavelski             SJS   \n",
      "85795         Goal  Wrist Shot      Logan Couture             SJS   \n",
      "\n",
      "               Goalie Empty_Net Goal_Strength  X_Coordinate  Y_Coordinate  \\\n",
      "458              None      True          Even         -23.0         -38.0   \n",
      "601              None      True          Even          61.0           2.0   \n",
      "604              None      True          Even         -69.0         -15.0   \n",
      "965    Roberto Luongo       NaN          Even          85.0           2.0   \n",
      "967    Roberto Luongo       NaN          Even         -85.0           3.0   \n",
      "...               ...       ...           ...           ...           ...   \n",
      "85371            None      True          Even          65.0           1.0   \n",
      "85373            None      True          Even          81.0           0.0   \n",
      "85420            None      True          Even          39.0          36.0   \n",
      "85738            None      True          Even          32.0          33.0   \n",
      "85795            None      True          Even         -11.0         -29.0   \n",
      "\n",
      "        Distance      Angle  Est_un_but  Filet_vide  \n",
      "458    77.025970 -29.560354           1           1  \n",
      "601    29.068884  -3.945186           1           1  \n",
      "604    25.806976 -35.537678           1           1  \n",
      "965     5.385165 -21.801409           1           1  \n",
      "967     5.830952  30.963757           1           1  \n",
      "...          ...        ...         ...         ...  \n",
      "85371  25.019992  -2.290610           1           1  \n",
      "85373   9.000000   0.000000           1           1  \n",
      "85420  62.425956 -35.217593           1           1  \n",
      "85738  66.730802 -29.638384           1           1  \n",
      "85795  84.154620 -20.157611           1           1  \n",
      "\n",
      "[618 rows x 18 columns]\n"
     ]
    }
   ],
   "source": [
    "print(df2018[(df2018['Filet_vide']==1 ) & (df2018['Est_un_but']==1)])"
   ]
  }
 ],
 "metadata": {
  "kernelspec": {
   "display_name": "Python 3.9.10 64-bit",
   "language": "python",
   "name": "python3"
  },
  "language_info": {
   "codemirror_mode": {
    "name": "ipython",
    "version": 3
   },
   "file_extension": ".py",
   "mimetype": "text/x-python",
   "name": "python",
   "nbconvert_exporter": "python",
   "pygments_lexer": "ipython3",
   "version": "3.9.10"
  },
  "orig_nbformat": 4,
  "vscode": {
   "interpreter": {
    "hash": "aee8b7b246df8f9039afb4144a1f6fd8d2ca17a180786b69acc140d282b71a49"
   }
  }
 },
 "nbformat": 4,
 "nbformat_minor": 2
}
