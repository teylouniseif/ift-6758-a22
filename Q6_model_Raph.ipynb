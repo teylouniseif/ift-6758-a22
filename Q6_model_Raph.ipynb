{
 "cells": [
  {
   "cell_type": "code",
   "execution_count": 23,
   "metadata": {
    "collapsed": true
   },
   "outputs": [],
   "source": [
    "from question4 import *\n",
    "from comet_ml import Experiment\n",
    "import os\n",
    "from etape2_Q3 import *\n",
    "import numpy as np\n",
    "from sklearn.calibration import CalibrationDisplay\n",
    "from sklearn.tree import DecisionTreeClassifier\n",
    "from sklearn.metrics import accuracy_score, precision_score\n",
    "from matplotlib.gridspec import GridSpec"
   ]
  },
  {
   "cell_type": "code",
   "execution_count": 24,
   "outputs": [],
   "source": [
    "my_key = os.environ.get(\"COMET_API_KEY\")"
   ],
   "metadata": {
    "collapsed": false
   }
  },
  {
   "cell_type": "code",
   "execution_count": 25,
   "outputs": [
    {
     "name": "stderr",
     "output_type": "stream",
     "text": [
      "COMET WARNING: As you are running in a Jupyter environment, you will need to call `experiment.end()` when finished to ensure all metrics and code are logged before exiting.\n",
      "COMET INFO: Experiment is live on comet.com https://www.comet.com/teylouniseifu/ift-6758-a22/3d45bcf29a3d44f1892f7c0a0a285537\n",
      "\n"
     ]
    }
   ],
   "source": [
    "exp = Experiment(api_key=my_key, project_name='ift-6758-a22', workspace='teylouniseifu' )"
   ],
   "metadata": {
    "collapsed": false
   }
  },
  {
   "cell_type": "code",
   "execution_count": 26,
   "outputs": [],
   "source": [
    "directory2015 = r'C:\\Users\\raph_\\PycharmProjects\\DS-GroupProject\\data_saved\\play_by_play\\2015\\regular'\n",
    "directory2016 = r'C:\\Users\\raph_\\PycharmProjects\\DS-GroupProject\\data_saved\\play_by_play\\2016\\regular'\n",
    "directory2017 = r'C:\\Users\\raph_\\PycharmProjects\\DS-GroupProject\\data_saved\\play_by_play\\2017\\regular'\n",
    "directory2018 = r'C:\\Users\\raph_\\PycharmProjects\\DS-GroupProject\\data_saved\\play_by_play\\2018\\regular'"
   ],
   "metadata": {
    "collapsed": false
   }
  },
  {
   "cell_type": "code",
   "execution_count": null,
   "outputs": [],
   "source": [
    "df2015 = create_full_df(directory2015)\n",
    "df2016 = create_full_df(directory2016)\n",
    "df2017 = create_full_df(directory2017)\n",
    "df2018 = create_full_df(directory2018)"
   ],
   "metadata": {
    "collapsed": false,
    "pycharm": {
     "is_executing": true
    }
   }
  },
  {
   "cell_type": "code",
   "execution_count": null,
   "outputs": [],
   "source": [
    "df_train = pd.concat([df2015, df2016, df2017], ignore_index=True)\n",
    "df_val = df2018\n",
    "df_train = df_train.dropna(subset=\"Distance\")\n",
    "df_val = df_val.dropna(subset=\"Distance\")\n",
    "df_total = pd.concat([df2015, df2016, df2017, df2018], ignore_index=True)\n",
    "%store df_total"
   ],
   "metadata": {
    "collapsed": false,
    "pycharm": {
     "is_executing": true
    }
   }
  },
  {
   "cell_type": "code",
   "execution_count": null,
   "outputs": [],
   "source": [
    "X_train_d = df_train[[\"Distance\",\"Angle\", \"Filet_vide\"]]\n",
    "y_train = df_train[\"Est_un_but\"]\n",
    "X_val_d = df_val[[\"Distance\",\"Angle\", \"Filet_vide\"]]\n",
    "y_val_r = df_val[\"Est_un_but\"]"
   ],
   "metadata": {
    "collapsed": false,
    "pycharm": {
     "is_executing": true
    }
   }
  },
  {
   "cell_type": "code",
   "execution_count": null,
   "outputs": [],
   "source": [
    "model = DecisionTreeClassifier()"
   ],
   "metadata": {
    "collapsed": false,
    "pycharm": {
     "is_executing": true
    }
   }
  },
  {
   "cell_type": "code",
   "execution_count": null,
   "outputs": [],
   "source": [
    "model.fit(X_train_d, y_train)"
   ],
   "metadata": {
    "collapsed": false,
    "pycharm": {
     "is_executing": true
    }
   }
  },
  {
   "cell_type": "code",
   "execution_count": null,
   "outputs": [],
   "source": [
    "pred = model.predict_proba(X_val_d)\n",
    "guesses = model.predict(X_val_d)"
   ],
   "metadata": {
    "collapsed": false,
    "pycharm": {
     "is_executing": true
    }
   }
  },
  {
   "cell_type": "code",
   "execution_count": null,
   "outputs": [],
   "source": [
    "fpr_r, tpr_r, roc_auc_r = get_roc_data(y_val_r, pred[:,1])\n",
    "%store fpr_r\n",
    "%store tpr_r\n",
    "%store roc_auc_r\n",
    "%store pred\n",
    "%store y_val_r"
   ],
   "metadata": {
    "collapsed": false,
    "pycharm": {
     "is_executing": true
    }
   }
  },
  {
   "cell_type": "code",
   "execution_count": null,
   "outputs": [],
   "source": [
    "plt.figure()\n",
    "lw = 2\n",
    "plt.plot(fpr_r,tpr_r,color=\"red\",lw=lw,alpha=0.5,label=\"ROC curve of distance only (area = %0.2f)\" % roc_auc_r)\n",
    "plt.xlim([0.0, 1.0])\n",
    "plt.ylim([0.0, 1.05])\n",
    "plt.xlabel(\"False Positive Rate\")\n",
    "plt.ylabel(\"True Positive Rate\")\n",
    "plt.title(\"Receiver operating characteristic example\")\n",
    "plt.legend(loc=\"lower right\")\n",
    "plt.show()"
   ],
   "metadata": {
    "collapsed": false,
    "pycharm": {
     "is_executing": true
    }
   }
  },
  {
   "cell_type": "code",
   "execution_count": null,
   "outputs": [],
   "source": [
    "perc, perc_values, num_goals = get_percentile_goal_chance(pred[:,1], y_val_r)\n",
    "cum_values_r = np.cumsum(num_goals)\n",
    "sum = np.sum(num_goals)/100\n",
    "cum_values_r = [i/sum for i in cum_values_r]\n",
    "plt.figure()\n",
    "lw = 2\n",
    "goal_rate_r = [i*100 for i in perc_values]\n",
    "plt.plot(perc,goal_rate_r,color=\"red\",alpha=0.5,lw=lw,label=\"Distance Only\")\n",
    "plt.xlim([102, 0])\n",
    "plt.ylim([0, 100])\n",
    "plt.xlabel(\"Shot probability model percentile\")\n",
    "plt.ylabel(\"Goals/(Shots+Goals)\")\n",
    "plt.title(\"Goal Rate\")\n",
    "plt.legend(loc=\"upper right\")\n",
    "plt.show()\n",
    "%store cum_values_r\n",
    "%store goal_rate_r\n",
    "%store perc"
   ],
   "metadata": {
    "collapsed": false,
    "pycharm": {
     "is_executing": true
    }
   }
  },
  {
   "cell_type": "code",
   "execution_count": null,
   "outputs": [],
   "source": [
    "exp.log_metric(\"roc\", roc_auc_r)"
   ],
   "metadata": {
    "collapsed": false,
    "pycharm": {
     "is_executing": true
    }
   }
  },
  {
   "cell_type": "code",
   "execution_count": null,
   "outputs": [],
   "source": [
    "acc = accuracy_score(y_val_r, guesses)\n",
    "prec = precision_score(y_val_r, guesses)"
   ],
   "metadata": {
    "collapsed": false,
    "pycharm": {
     "is_executing": true
    }
   }
  },
  {
   "cell_type": "code",
   "execution_count": null,
   "outputs": [],
   "source": [
    "exp.log_metric(\"accuracy\", acc)\n",
    "exp.log_metric(\"precision\", prec)\n",
    "exp.log_model(\"decision-tree-best-attempt\")\n",
    "exp.end()"
   ],
   "metadata": {
    "collapsed": false,
    "pycharm": {
     "is_executing": true
    }
   }
  },
  {
   "cell_type": "code",
   "execution_count": null,
   "outputs": [],
   "source": [],
   "metadata": {
    "collapsed": false
   }
  }
 ],
 "metadata": {
  "kernelspec": {
   "display_name": "Python 3",
   "language": "python",
   "name": "python3"
  },
  "language_info": {
   "codemirror_mode": {
    "name": "ipython",
    "version": 2
   },
   "file_extension": ".py",
   "mimetype": "text/x-python",
   "name": "python",
   "nbconvert_exporter": "python",
   "pygments_lexer": "ipython2",
   "version": "2.7.6"
  }
 },
 "nbformat": 4,
 "nbformat_minor": 0
}
