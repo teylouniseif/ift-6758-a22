{
 "cells": [
  {
   "cell_type": "code",
   "execution_count": 1,
   "id": "1253f7c7-f995-47c4-aa18-94ca9eafb28c",
   "metadata": {},
   "outputs": [
    {
     "name": "stderr",
     "output_type": "stream",
     "text": [
      "100%|██████████| 1271/1271 [09:45<00:00,  2.17it/s]\n"
     ]
    }
   ],
   "source": [
    "from fetch import HockeySeason\n",
    "\n",
    "season_data = HockeySeason(2017)\n",
    "season_data.download()\n",
    "               \n",
    "        "
   ]
  },
  {
   "cell_type": "code",
   "execution_count": 1,
   "id": "faa6d687-bfc6-4524-9b6b-16740c6f56c2",
   "metadata": {},
   "outputs": [
    {
     "name": "stderr",
     "output_type": "stream",
     "text": [
      "100%|██████████| 1271/1271 [03:38<00:00,  5.82it/s]\n",
      "100%|██████████| 1271/1271 [02:25<00:00,  8.75it/s]\n"
     ]
    }
   ],
   "source": [
    "from question1 import get_play_by_play_season_gameType\n",
    "get_play_by_play_season_gameType(\"2017\",\"02\",\"data_saved/play_by_play\")\n",
    "get_play_by_play_season_gameType(\"2017\",\"03\",\"data_saved/play_by_play\")"
   ]
  },
  {
   "cell_type": "code",
   "execution_count": 3,
   "id": "60094345-6467-46ec-aa4b-3711e2ac507f",
   "metadata": {},
   "outputs": [
    {
     "name": "stdout",
     "output_type": "stream",
     "text": [
      "  periodTime eventTypeId                 team indicator_shotOrgoal  \\\n",
      "0      00:38        SHOT        Winnipeg Jets                 Shot   \n",
      "1      00:49        SHOT        Winnipeg Jets                 Shot   \n",
      "2      01:03        SHOT        Winnipeg Jets                 Shot   \n",
      "3      01:46        SHOT  Toronto Maple Leafs                 Shot   \n",
      "4      03:42        SHOT        Winnipeg Jets                 Shot   \n",
      "\n",
      "   coordinate_x  coordinate_y         shooter             goalie iSemptyNet  \\\n",
      "0         -36.0         -28.0  Josh Morrissey  Frederik Andersen       None   \n",
      "1         -75.0           1.0  Shawn Matthias  Frederik Andersen       None   \n",
      "2         -73.0          10.0    Bryan Little  Frederik Andersen       None   \n",
      "3          80.0          -3.0       Eric Fehr        Steve Mason       None   \n",
      "4         -44.0         -21.0    Patrik Laine  Frederik Andersen       None   \n",
      "\n",
      "  strength  \n",
      "0     None  \n",
      "1     None  \n",
      "2     None  \n",
      "3     None  \n",
      "4     None  \n"
     ]
    }
   ],
   "source": [
    "from question4 import DataCleaner\n",
    "from question1 import get_play_by_play\n",
    "play_by_play = get_play_by_play(\"2017020001\",\"data_saved/play_by_play/2017/regular\")\n",
    "dataCleaner  = DataCleaner()\n",
    "print(dataCleaner.get_clean_data(play_by_play).head())"
   ]
  },
  {
   "cell_type": "code",
   "execution_count": null,
   "id": "5f729c22-7058-43f2-b105-b92389645e6e",
   "metadata": {},
   "outputs": [],
   "source": []
  }
 ],
 "metadata": {
  "kernelspec": {
   "display_name": "Python 3.9.10 64-bit",
   "language": "python",
   "name": "python3"
  },
  "language_info": {
   "codemirror_mode": {
    "name": "ipython",
    "version": 3
   },
   "file_extension": ".py",
   "mimetype": "text/x-python",
   "name": "python",
   "nbconvert_exporter": "python",
   "pygments_lexer": "ipython3",
   "version": "3.9.10"
  },
  "vscode": {
   "interpreter": {
    "hash": "aee8b7b246df8f9039afb4144a1f6fd8d2ca17a180786b69acc140d282b71a49"
   }
  }
 },
 "nbformat": 4,
 "nbformat_minor": 5
}
