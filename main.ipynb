{
 "cells": [
  {
   "cell_type": "code",
   "execution_count": 1,
   "id": "1253f7c7-f995-47c4-aa18-94ca9eafb28c",
   "metadata": {},
   "outputs": [
    {
     "data": {
      "text/plain": [
       "'from question1 import HockeySeason\\n\\nseason_data = HockeySeason(2016, 2020)\\nseason_data.download()\\n               '"
      ]
     },
     "execution_count": 1,
     "metadata": {},
     "output_type": "execute_result"
    }
   ],
   "source": [
    "\"\"\"from question1 import HockeySeason\n",
    "\n",
    "season_data = HockeySeason(2016, 2020)\n",
    "season_data.download()\n",
    "               \"\"\"\n",
    "        "
   ]
  },
  {
   "cell_type": "code",
   "execution_count": 3,
   "id": "9e56720d",
   "metadata": {},
   "outputs": [
    {
     "name": "stderr",
     "output_type": "stream",
     "text": [
      "100%|██████████| 1271/1271 [02:02<00:00, 10.38it/s]\n",
      "100%|██████████| 1271/1271 [01:23<00:00, 15.19it/s]\n",
      "100%|██████████| 1271/1271 [02:43<00:00,  7.76it/s]\n",
      "100%|██████████| 1271/1271 [01:27<00:00, 14.58it/s]\n",
      "100%|██████████| 1271/1271 [02:15<00:00,  9.35it/s]\n",
      "100%|██████████| 1271/1271 [01:26<00:00, 14.62it/s]\n"
     ]
    }
   ],
   "source": [
    "from question1 import get_play_by_play_season_gameType\n",
    "get_play_by_play_season_gameType(\"2018\",\"02\",\"data_saved/play_by_play\")\n",
    "get_play_by_play_season_gameType(\"2018\",\"03\",\"data_saved/play_by_play\")\n",
    "get_play_by_play_season_gameType(\"2019\",\"02\",\"data_saved/play_by_play\")\n",
    "get_play_by_play_season_gameType(\"2019\",\"03\",\"data_saved/play_by_play\")\n",
    "get_play_by_play_season_gameType(\"2020\",\"02\",\"data_saved/play_by_play\")\n",
    "get_play_by_play_season_gameType(\"2020\",\"03\",\"data_saved/play_by_play\")"
   ]
  },
  {
   "cell_type": "code",
   "execution_count": 1,
   "id": "1dcd122e",
   "metadata": {},
   "outputs": [
    {
     "data": {
      "text/plain": [
       "'df2019 = create_full_df(directory=directory2019)\\ndf2020 = create_full_df(directory=directory2020)'"
      ]
     },
     "execution_count": 1,
     "metadata": {},
     "output_type": "execute_result"
    }
   ],
   "source": [
    "from question4 import *\n",
    "directory2018 = r'data_saved/play_by_play/2018'\n",
    "\"\"\"directory2019 = r'data_saved/play_by_play/2019'\n",
    "directory2020 = r'data_saved/play_by_play/2020'\"\"\"\n",
    "df2018 = create_full_df(directory=directory2018)\n",
    "\"\"\"df2019 = create_full_df(directory=directory2019)\n",
    "df2020 = create_full_df(directory=directory2020)\"\"\""
   ]
  },
  {
   "cell_type": "code",
   "execution_count": 2,
   "id": "2273d3e3",
   "metadata": {},
   "outputs": [
    {
     "name": "stdout",
     "output_type": "stream",
     "text": [
      "        Game_ID  Event_ID  Period_Number Period_Time  Game_Time Shot_or_Goal  \\\n",
      "167  2018030114        12              1       02:26       2.43         Goal   \n",
      "168  2018030114        16              1       03:26       3.43         Shot   \n",
      "169  2018030114        20              1       03:48       3.80         Goal   \n",
      "170  2018030114        34              1       05:56       5.93         Shot   \n",
      "171  2018030114        37              1       06:45       6.75         Shot   \n",
      "\n",
      "      Shot_Type            Shooter Team_of_Shooter              Goalie  \\\n",
      "167  Wrist Shot   Alexandre Texier             CBJ  Andrei Vasilevskiy   \n",
      "168  Wrist Shot    Adam Clendening             CBJ  Andrei Vasilevskiy   \n",
      "169    Backhand  Pierre-Luc Dubois             CBJ  Andrei Vasilevskiy   \n",
      "170   Snap Shot    Nikita Kucherov             TBL    Sergei Bobrovsky   \n",
      "171    Backhand     Artemi Panarin             CBJ  Andrei Vasilevskiy   \n",
      "\n",
      "    Empty_Net Goal_Strength  X_Coordinate  Y_Coordinate   Distance  \n",
      "167     False    Power Play          51.0          20.0  43.829214  \n",
      "168       NaN           NaN          59.0         -34.0  46.010868  \n",
      "169     False          Even          82.0          -5.0   9.433981  \n",
      "170       NaN           NaN         -47.0         -22.0  48.301139  \n",
      "171       NaN           NaN          62.0          10.0  29.732137  \n",
      "60.72831542053354 -0.1867394822948567\n"
     ]
    },
    {
     "data": {
      "image/png": "[encoded data removed]",
      "text/plain": [
       "<Figure size 432x288 with 1 Axes>"
      ]
     },
     "metadata": {
      "needs_background": "light"
     },
     "output_type": "display_data"
    }
   ],
   "source": [
    "import question6\n",
    "\"\"\"question6.rink_print(df2018, 2018030114)\"\"\"\n",
    "question6.league_avg_shot_hour(df2018)"
   ]
  },
  {
   "cell_type": "code",
   "execution_count": 1,
   "id": "faa6d687-bfc6-4524-9b6b-16740c6f56c2",
   "metadata": {},
   "outputs": [
    {
     "data": {
      "application/vnd.jupyter.widget-view+json": {
       "model_id": "8776689610644d65b6ec1df040227ba1",
       "version_major": 2,
       "version_minor": 0
      },
      "text/plain": [
       "interactive(children=(IntSlider(value=2016, continuous_update=False, description='Saisons:', max=2020, min=201…"
      ]
     },
     "metadata": {},
     "output_type": "display_data"
    },
    {
     "data": {
      "text/plain": [
       "<function widgetsfct.match_info(s, t, n)>"
      ]
     },
     "execution_count": 1,
     "metadata": {},
     "output_type": "execute_result"
    }
   ],
   "source": [
    "import ipywidgets as widgets\n",
    "import question2\n",
    "\n",
    "saison = widgets.IntSlider(\n",
    "            value=2016,\n",
    "            min=2016,\n",
    "            max=2020,\n",
    "            step=1,\n",
    "            description='Saisons:', \n",
    "            disabled=False,\n",
    "            continuous_update=False,\n",
    "            orientation='horizontal',\n",
    "            readout=True,\n",
    "            readout_format='d')\n",
    "types = widgets.SelectMultiple(\n",
    "            options = ['Saison régulière', 'Séries éliminatoires'],\n",
    "            value=['Saison régulière'],\n",
    "            description='Type de partie',\n",
    "            disabled=False)\n",
    "num = widgets.Text(\n",
    "            value=\"\",\n",
    "            placeholder='Type something...',\n",
    "            description='Entrer le numéro de match',\n",
    "            disabled=False)\n",
    "event = widgets.Text(\n",
    "            value=\"\",\n",
    "            placeholder='Type something...',\n",
    "            description='Entrer le numéro d evenement',\n",
    "            disabled=False)\n",
    "\"\"\"button = widgets.Button(\n",
    "    description='Click me',\n",
    "    disabled=False,\n",
    "    button_style='', # 'success', 'info', 'warning', 'danger' or ''\n",
    "    tooltip='Click me',\n",
    "    icon='check' # (FontAwesome names without the `fa-` prefix)\n",
    ")\n",
    "display(button)\"\"\"\n",
    "widgets.interact(question2.match_info, s = saison, t = types, n = num, e = event)"
   ]
  }
 ],
 "metadata": {
  "kernelspec": {
   "display_name": "Python ('ds_hw2')",
   "language": "python",
   "name": "python3"
  },
  "language_info": {
   "codemirror_mode": {
    "name": "ipython",
    "version": 3
   },
   "file_extension": ".py",
   "mimetype": "text/x-python",
   "name": "python",
   "nbconvert_exporter": "python",
   "pygments_lexer": "ipython3",
   "version": "3.10.4"
  },
  "vscode": {
   "interpreter": {
    "hash": "25a19fbe0a9132dfb9279d48d161753c6352f8f9478c2e74383d340069b907c3"
   }
  }
 },
 "nbformat": 4,
 "nbformat_minor": 5
}
