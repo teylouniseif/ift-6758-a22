{
 "cells": [
  {
   "cell_type": "code",
   "execution_count": 2,
   "id": "1253f7c7-f995-47c4-aa18-94ca9eafb28c",
   "metadata": {},
   "outputs": [
    {
     "name": "stderr",
     "output_type": "stream",
     "text": [
      "100%|██████████| 1230/1230 [09:36<00:00,  2.13it/s]\n",
      "100%|██████████| 1271/1271 [09:46<00:00,  2.17it/s]\n",
      "100%|██████████| 1271/1271 [11:33<00:00,  1.83it/s]\n",
      "100%|██████████| 1271/1271 [12:10<00:00,  1.74it/s]\n",
      "100%|██████████| 1271/1271 [11:37<00:00,  1.82it/s]\n"
     ]
    }
   ],
   "source": [
    "from fetch import HockeySeason\n",
    "\n",
    "season_data = HockeySeason(2016, 2020)\n",
    "season_data.download()\n",
    "               \n",
    "        "
   ]
  },
  {
   "cell_type": "code",
   "execution_count": 18,
   "id": "faa6d687-bfc6-4524-9b6b-16740c6f56c2",
   "metadata": {},
   "outputs": [
    {
     "data": {
      "application/vnd.jupyter.widget-view+json": {
       "model_id": "d5258faf4ce448f3983eab228b1ef1f2",
       "version_major": 2,
       "version_minor": 0
      },
      "text/plain": [
       "interactive(children=(IntSlider(value=2016, continuous_update=False, description='Saisons:', max=2020, min=201…"
      ]
     },
     "metadata": {},
     "output_type": "display_data"
    },
    {
     "data": {
      "text/plain": [
       "<function widgetsfct.match_info(s, t, n)>"
      ]
     },
     "execution_count": 18,
     "metadata": {},
     "output_type": "execute_result"
    }
   ],
   "source": [
    "import ipywidgets as widgets\n",
    "import widgetsfct\n",
    "\n",
    "saison = widgets.IntSlider(\n",
    "            value=2016,\n",
    "            min=2016,\n",
    "            max=2020,\n",
    "            step=1,\n",
    "            description='Saisons:', \n",
    "            disabled=False,\n",
    "            continuous_update=False,\n",
    "            orientation='horizontal',\n",
    "            readout=True,\n",
    "            readout_format='d')\n",
    "types = widgets.SelectMultiple(\n",
    "            options = ['Saison régulière', 'Séries éliminatoires'],\n",
    "            value=['Saison régulière'],\n",
    "            description='Type de partie',\n",
    "            disabled=False)\n",
    "num = widgets.Text(\n",
    "            value=\"\",\n",
    "            placeholder='Type something...',\n",
    "            description='Entrer le numéro de match',\n",
    "            disabled=False)\n",
    "widgets.interact(widgetsfct.match_info, s= saison, t = types, n = num)"
   ]
  },
  {
   "cell_type": "code",
   "execution_count": null,
   "id": "5f729c22-7058-43f2-b105-b92389645e6e",
   "metadata": {},
   "outputs": [],
   "source": []
  }
 ],
 "metadata": {
  "kernelspec": {
   "display_name": "Python 3.10.4 64-bit",
   "language": "python",
   "name": "python3"
  },
  "language_info": {
   "codemirror_mode": {
    "name": "ipython",
    "version": 3
   },
   "file_extension": ".py",
   "mimetype": "text/x-python",
   "name": "python",
   "nbconvert_exporter": "python",
   "pygments_lexer": "ipython3",
   "version": "3.10.4"
  },
  "vscode": {
   "interpreter": {
    "hash": "87f1438f1769b694796a97f51087ac6ea6d056912c9b800eb37e6d57f057f816"
   }
  }
 },
 "nbformat": 4,
 "nbformat_minor": 5
}
