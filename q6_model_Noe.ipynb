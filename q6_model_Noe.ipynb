{
 "cells": [
  {
   "cell_type": "markdown",
   "metadata": {},
   "source": [
    "## Partie Noe"
   ]
  },
  {
   "cell_type": "code",
   "execution_count": 317,
   "metadata": {},
   "outputs": [],
   "source": [
    "import numpy as np\n",
    "import pandas as pd\n",
    "import sklearn.preprocessing as sk\n",
    "from sklearn.svm import SVC\n",
    "from sklearn.model_selection import train_test_split"
   ]
  },
  {
   "cell_type": "code",
   "execution_count": 185,
   "metadata": {},
   "outputs": [
    {
     "name": "stderr",
     "output_type": "stream",
     "text": [
      "100%|██████████| 1230/1230 [04:26<00:00,  4.62it/s]\n",
      "100%|██████████| 1230/1230 [04:09<00:00,  4.93it/s]\n",
      "100%|██████████| 1271/1271 [05:20<00:00,  3.96it/s]\n",
      "100%|██████████| 1271/1271 [05:18<00:00,  3.99it/s]\n"
     ]
    }
   ],
   "source": [
    "from milestone1.question1 import get_play_by_play_season_gameType\n",
    "\n",
    "match_type = 2\n",
    "\n",
    "get_play_by_play_season_gameType(\"2015\",\"0\"+str(match_type),\"data_saved/play_by_play\")\n",
    "get_play_by_play_season_gameType(\"2016\",\"0\"+str(match_type),\"data_saved/play_by_play\")\n",
    "get_play_by_play_season_gameType(\"2017\",\"0\"+str(match_type),\"data_saved/play_by_play\")\n",
    "get_play_by_play_season_gameType(\"2018\",\"0\"+str(match_type),\"data_saved/play_by_play\")"
   ]
  },
  {
   "cell_type": "code",
   "execution_count": 253,
   "metadata": {},
   "outputs": [],
   "source": [
    "from milestone1.question4 import *\n",
    "\n",
    "#les donnes des saisons régulière  seulement!\n",
    "directory2015 = r'data_saved/play_by_play/2015/regular'\n",
    "directory2016 = r'data_saved/play_by_play/2016/regular'\n",
    "directory2017 = r'data_saved/play_by_play/2017/regular'\n",
    "directory2018 = r'data_saved/play_by_play/2018/regular'\n",
    "\n",
    "df2015 = create_full_df(directory=directory2015)\n",
    "df2016 = create_full_df(directory=directory2016)\n",
    "df2017 = create_full_df(directory=directory2017)\n",
    "df2018 = create_full_df(directory=directory2018)"
   ]
  },
  {
   "cell_type": "code",
   "execution_count": 308,
   "metadata": {},
   "outputs": [],
   "source": [
    "df15_16 = pd.concat([df2015, df2016], ignore_index=True)\n",
    "df17_18 = pd.concat([df2017, df2018], ignore_index=True)\n",
    "\n",
    "#utilise les données 2015/16 - 2018/19 de la saison régulière pour créer vos ensembles d'entraînement et de validation.\n",
    "df_train_val =  pd.concat([df15_16, df17_18], ignore_index=True)"
   ]
  },
  {
   "cell_type": "code",
   "execution_count": 309,
   "metadata": {},
   "outputs": [],
   "source": [
    "df_train_val = df_train_val.sample(frac=1).reset_index(drop=True).dropna(axis = 1)"
   ]
  },
  {
   "cell_type": "code",
   "execution_count": 312,
   "metadata": {},
   "outputs": [
    {
     "name": "stdout",
     "output_type": "stream",
     "text": [
      "      Game_ID  Event_ID  Period_Number Period_Time  Game_Time  Secondes_jeu  \\\n",
      "0  2015020905       154              2       08:20      28.33        1699.8   \n",
      "1  2018020383       122              2       06:39      26.65        1599.0   \n",
      "2  2017020452       313              3       16:01      56.01        3360.6   \n",
      "3  2017020540       258              3       07:23      47.38        2842.8   \n",
      "4  2018020041        21              1       04:19       4.31         258.6   \n",
      "\n",
      "  Shot_or_Goal           Shooter Team_of_Shooter             Goalie  \\\n",
      "0         Shot      Evander Kane             BUF  Frederik Andersen   \n",
      "1         Shot   Mikael Granlund             MIN   Sergei Bobrovsky   \n",
      "2         Shot    Jamie Oleksiak             DAL      Maxime Lagace   \n",
      "3         Shot  Vincent Trocheck             FLA       Alex Stalock   \n",
      "4         Shot      Tyler Seguin             DAL  Frederik Andersen   \n",
      "\n",
      "   Est_un_but  Filet_vide Last_event_type  Rebond  Sec_from_lastEvent  \n",
      "0           0           0            Shot    True                 6.0  \n",
      "1           0           0            Shot    True                 3.0  \n",
      "2           0           0            Shot    True                36.0  \n",
      "3           0           0        Giveaway   False                24.0  \n",
      "4           0           0    Blocked Shot   False                 4.8  \n"
     ]
    }
   ],
   "source": [
    "print(df_train_val.head())"
   ]
  },
  {
   "cell_type": "code",
   "execution_count": 313,
   "metadata": {},
   "outputs": [],
   "source": [
    "X = df_train_val[[\"Filet_vide\",\"Last_event_type\",\"Rebond\"]]\n",
    "y = df_train_val[\"Est_un_but\"]"
   ]
  },
  {
   "cell_type": "code",
   "execution_count": 314,
   "metadata": {},
   "outputs": [],
   "source": [
    "\"\"\"shot_type = pd.get_dummies(X.Shot_Type)\n",
    "X = X.drop([\"Shot_Type\"], axis = 1)\n",
    "X = X.join(pd.DataFrame(shot_type))\"\"\"\n",
    "\n",
    "last_type = pd.get_dummies(X.Last_event_type)\n",
    "X = X.drop([\"Last_event_type\"], axis = 1)\n",
    "X = X.join(pd.DataFrame(last_type))\n",
    "\n",
    "\"\"\"scaler = sk.MinMaxScaler()\n",
    "X[\"Angle\"] = scaler.fit_transform(X[\"Angle\"].to_numpy().reshape(-1,1)).reshape(1, -1)[0]\n",
    "\n",
    "scaler = sk.MinMaxScaler()\n",
    "X[\"Vitesse\"] = scaler.fit_transform(X[\"Vitesse\"].to_numpy().reshape(-1,1)).reshape(1, -1)[0]\"\"\"\n",
    "\n",
    "X[\"Rebond\"] *=1"
   ]
  },
  {
   "cell_type": "code",
   "execution_count": 315,
   "metadata": {},
   "outputs": [
    {
     "name": "stdout",
     "output_type": "stream",
     "text": [
      "   Filet_vide  Rebond  Blocked Shot  Faceoff  Game Official  Giveaway  Goal  \\\n",
      "0           0       1             0        0              0         0     0   \n",
      "1           0       1             0        0              0         0     0   \n",
      "2           0       1             0        0              0         0     0   \n",
      "3           0       0             0        0              0         1     0   \n",
      "4           0       0             1        0              0         0     0   \n",
      "\n",
      "   Hit  Missed Shot  Official Challenge  Penalty  Period End  Period Ready  \\\n",
      "0    0            0                   0        0           0             0   \n",
      "1    0            0                   0        0           0             0   \n",
      "2    0            0                   0        0           0             0   \n",
      "3    0            0                   0        0           0             0   \n",
      "4    0            0                   0        0           0             0   \n",
      "\n",
      "   Period Start  Shot  Stoppage  Takeaway  \n",
      "0             0     1         0         0  \n",
      "1             0     1         0         0  \n",
      "2             0     1         0         0  \n",
      "3             0     0         0         0  \n",
      "4             0     0         0         0  \n"
     ]
    }
   ],
   "source": [
    "print(X.head())"
   ]
  },
  {
   "cell_type": "code",
   "execution_count": 319,
   "metadata": {},
   "outputs": [],
   "source": [
    "X_train, X_test, y_train, y_test = train_test_split(X, y, test_size=0.10, random_state=42)"
   ]
  },
  {
   "cell_type": "code",
   "execution_count": 320,
   "metadata": {},
   "outputs": [
    {
     "data": {
      "text/html": [
       "<style>#sk-container-id-2 {color: black;background-color: white;}#sk-container-id-2 pre{padding: 0;}#sk-container-id-2 div.sk-toggleable {background-color: white;}#sk-container-id-2 label.sk-toggleable__label {cursor: pointer;display: block;width: 100%;margin-bottom: 0;padding: 0.3em;box-sizing: border-box;text-align: center;}#sk-container-id-2 label.sk-toggleable__label-arrow:before {content: \"▸\";float: left;margin-right: 0.25em;color: #696969;}#sk-container-id-2 label.sk-toggleable__label-arrow:hover:before {color: black;}#sk-container-id-2 div.sk-estimator:hover label.sk-toggleable__label-arrow:before {color: black;}#sk-container-id-2 div.sk-toggleable__content {max-height: 0;max-width: 0;overflow: hidden;text-align: left;background-color: #f0f8ff;}#sk-container-id-2 div.sk-toggleable__content pre {margin: 0.2em;color: black;border-radius: 0.25em;background-color: #f0f8ff;}#sk-container-id-2 input.sk-toggleable__control:checked~div.sk-toggleable__content {max-height: 200px;max-width: 100%;overflow: auto;}#sk-container-id-2 input.sk-toggleable__control:checked~label.sk-toggleable__label-arrow:before {content: \"▾\";}#sk-container-id-2 div.sk-estimator input.sk-toggleable__control:checked~label.sk-toggleable__label {background-color: #d4ebff;}#sk-container-id-2 div.sk-label input.sk-toggleable__control:checked~label.sk-toggleable__label {background-color: #d4ebff;}#sk-container-id-2 input.sk-hidden--visually {border: 0;clip: rect(1px 1px 1px 1px);clip: rect(1px, 1px, 1px, 1px);height: 1px;margin: -1px;overflow: hidden;padding: 0;position: absolute;width: 1px;}#sk-container-id-2 div.sk-estimator {font-family: monospace;background-color: #f0f8ff;border: 1px dotted black;border-radius: 0.25em;box-sizing: border-box;margin-bottom: 0.5em;}#sk-container-id-2 div.sk-estimator:hover {background-color: #d4ebff;}#sk-container-id-2 div.sk-parallel-item::after {content: \"\";width: 100%;border-bottom: 1px solid gray;flex-grow: 1;}#sk-container-id-2 div.sk-label:hover label.sk-toggleable__label {background-color: #d4ebff;}#sk-container-id-2 div.sk-serial::before {content: \"\";position: absolute;border-left: 1px solid gray;box-sizing: border-box;top: 0;bottom: 0;left: 50%;z-index: 0;}#sk-container-id-2 div.sk-serial {display: flex;flex-direction: column;align-items: center;background-color: white;padding-right: 0.2em;padding-left: 0.2em;position: relative;}#sk-container-id-2 div.sk-item {position: relative;z-index: 1;}#sk-container-id-2 div.sk-parallel {display: flex;align-items: stretch;justify-content: center;background-color: white;position: relative;}#sk-container-id-2 div.sk-item::before, #sk-container-id-2 div.sk-parallel-item::before {content: \"\";position: absolute;border-left: 1px solid gray;box-sizing: border-box;top: 0;bottom: 0;left: 50%;z-index: -1;}#sk-container-id-2 div.sk-parallel-item {display: flex;flex-direction: column;z-index: 1;position: relative;background-color: white;}#sk-container-id-2 div.sk-parallel-item:first-child::after {align-self: flex-end;width: 50%;}#sk-container-id-2 div.sk-parallel-item:last-child::after {align-self: flex-start;width: 50%;}#sk-container-id-2 div.sk-parallel-item:only-child::after {width: 0;}#sk-container-id-2 div.sk-dashed-wrapped {border: 1px dashed gray;margin: 0 0.4em 0.5em 0.4em;box-sizing: border-box;padding-bottom: 0.4em;background-color: white;}#sk-container-id-2 div.sk-label label {font-family: monospace;font-weight: bold;display: inline-block;line-height: 1.2em;}#sk-container-id-2 div.sk-label-container {text-align: center;}#sk-container-id-2 div.sk-container {/* jupyter's `normalize.less` sets `[hidden] { display: none; }` but bootstrap.min.css set `[hidden] { display: none !important; }` so we also need the `!important` here to be able to override the default hidden behavior on the sphinx rendered scikit-learn.org. See: https://github.com/scikit-learn/scikit-learn/issues/21755 */display: inline-block !important;position: relative;}#sk-container-id-2 div.sk-text-repr-fallback {display: none;}</style><div id=\"sk-container-id-2\" class=\"sk-top-container\"><div class=\"sk-text-repr-fallback\"><pre>SVC()</pre><b>In a Jupyter environment, please rerun this cell to show the HTML representation or trust the notebook. <br />On GitHub, the HTML representation is unable to render, please try loading this page with nbviewer.org.</b></div><div class=\"sk-container\" hidden><div class=\"sk-item\"><div class=\"sk-estimator sk-toggleable\"><input class=\"sk-toggleable__control sk-hidden--visually\" id=\"sk-estimator-id-2\" type=\"checkbox\" checked><label for=\"sk-estimator-id-2\" class=\"sk-toggleable__label sk-toggleable__label-arrow\">SVC</label><div class=\"sk-toggleable__content\"><pre>SVC()</pre></div></div></div></div></div>"
      ],
      "text/plain": [
       "SVC()"
      ]
     },
     "execution_count": 320,
     "metadata": {},
     "output_type": "execute_result"
    }
   ],
   "source": [
    "clf = SVC()\n",
    "clf.fit(X_train,y_train)"
   ]
  },
  {
   "cell_type": "code",
   "execution_count": 321,
   "metadata": {},
   "outputs": [],
   "source": [
    "y_pred = clf.predict(X_test)"
   ]
  },
  {
   "cell_type": "code",
   "execution_count": 322,
   "metadata": {},
   "outputs": [
    {
     "name": "stdout",
     "output_type": "stream",
     "text": [
      "0.9118802318094011\n"
     ]
    }
   ],
   "source": [
    "print(np.mean(y_test==y_pred))"
   ]
  },
  {
   "cell_type": "code",
   "execution_count": 332,
   "metadata": {},
   "outputs": [
    {
     "name": "stdout",
     "output_type": "stream",
     "text": [
      "[0 0 0 ... 0 0 0]\n",
      "133580    0\n",
      "232833    0\n",
      "153825    0\n",
      "239698    0\n",
      "67554     0\n",
      "         ..\n",
      "237842    0\n",
      "273122    0\n",
      "124569    0\n",
      "4101      0\n",
      "166315    0\n",
      "Name: Est_un_but, Length: 31060, dtype: int64\n"
     ]
    }
   ],
   "source": [
    "print(y_pred)\n",
    "print(y_test)"
   ]
  },
  {
   "cell_type": "code",
   "execution_count": 329,
   "metadata": {},
   "outputs": [
    {
     "name": "stdout",
     "output_type": "stream",
     "text": [
      "0\n",
      "0\n"
     ]
    }
   ],
   "source": [
    "idx = 8\n",
    "print(y_test.tolist()[idx])\n",
    "print(y_pred[idx])"
   ]
  }
 ],
 "metadata": {
  "kernelspec": {
   "display_name": "Python ('DSDev1')",
   "language": "python",
   "name": "python3"
  },
  "language_info": {
   "codemirror_mode": {
    "name": "ipython",
    "version": 3
   },
   "file_extension": ".py",
   "mimetype": "text/x-python",
   "name": "python",
   "nbconvert_exporter": "python",
   "pygments_lexer": "ipython3",
   "version": ""
  },
  "orig_nbformat": 4,
  "vscode": {
   "interpreter": {
    "hash": "25a19fbe0a9132dfb9279d48d161753c6352f8f9478c2e74383d340069b907c3"
   }
  }
 },
 "nbformat": 4,
 "nbformat_minor": 2
}
