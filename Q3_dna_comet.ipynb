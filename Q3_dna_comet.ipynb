{
 "cells": [
  {
   "cell_type": "code",
   "execution_count": 1,
   "metadata": {
    "collapsed": true
   },
   "outputs": [],
   "source": [
    "from question4 import *\n",
    "from comet_ml import Experiment\n",
    "import os\n",
    "from etape2_Q3 import *\n",
    "import numpy as np\n",
    "from sklearn.calibration import CalibrationDisplay\n",
    "from matplotlib.gridspec import GridSpec"
   ]
  },
  {
   "cell_type": "code",
   "execution_count": 2,
   "outputs": [],
   "source": [
    "my_key = os.environ.get(\"COMET_API_KEY\")"
   ],
   "metadata": {
    "collapsed": false
   }
  },
  {
   "cell_type": "code",
   "execution_count": 3,
   "outputs": [
    {
     "name": "stderr",
     "output_type": "stream",
     "text": [
      "COMET WARNING: As you are running in a Jupyter environment, you will need to call `experiment.end()` when finished to ensure all metrics and code are logged before exiting.\n",
      "COMET INFO: Couldn't find a Git repository in 'C:\\\\Users\\\\raph_\\\\PycharmProjects\\\\DS-GroupProject' nor in any parent directory. You can override where Comet is looking for a Git Patch by setting the configuration `COMET_GIT_DIRECTORY`\n",
      "COMET INFO: Experiment is live on comet.com https://www.comet.com/teylouniseifu/ift-6758-a22/221b16e5e713491f92ed43cfedcae788\n",
      "\n"
     ]
    }
   ],
   "source": [
    "exp = Experiment(api_key=my_key, project_name='ift-6758-a22', workspace='teylouniseifu' )"
   ],
   "metadata": {
    "collapsed": false
   }
  },
  {
   "cell_type": "code",
   "execution_count": 4,
   "outputs": [],
   "source": [
    "directory2015 = r'data_saved/play_by_play/2015/regular'\n",
    "directory2016 = r'data_saved/play_by_play/2016/regular'\n",
    "directory2017 = r'data_saved/play_by_play/2017/regular'\n",
    "directory2018 = r'data_saved/play_by_play/2018/regular'"
   ],
   "metadata": {
    "collapsed": false
   }
  },
  {
   "cell_type": "code",
   "execution_count": 5,
   "outputs": [],
   "source": [
    "df2015 = create_full_df(directory2015)\n",
    "df2016 = create_full_df(directory2016)\n",
    "df2017 = create_full_df(directory2017)\n",
    "df2018 = create_full_df(directory2018)"
   ],
   "metadata": {
    "collapsed": false
   }
  },
  {
   "cell_type": "code",
   "execution_count": 6,
   "outputs": [],
   "source": [
    "df_train = pd.concat([df2015, df2016, df2017], ignore_index=True)\n",
    "df_val = df2018\n",
    "df_train = df_train.dropna(subset=\"Distance\")\n",
    "df_val = df_val.dropna(subset=\"Distance\")"
   ],
   "metadata": {
    "collapsed": false
   }
  },
  {
   "cell_type": "code",
   "execution_count": 7,
   "outputs": [],
   "source": [
    "X_train_d = df_train[[\"Distance\"]]\n",
    "y_train = df_train[\"Est_un_but\"]\n",
    "X_val_d = df_val[[\"Distance\"]]\n",
    "y_val = df_val[\"Est_un_but\"]"
   ],
   "metadata": {
    "collapsed": false
   }
  },
  {
   "cell_type": "code",
   "execution_count": 9,
   "outputs": [],
   "source": [
    "y_score_dna, y_prob_dna, clf_dna = logistic_regression(X_train_dna, y_train, X_val_dna)"
   ],
   "metadata": {
    "collapsed": false
   }
  },
  {
   "cell_type": "code",
   "execution_count": 10,
   "outputs": [],
   "source": [
    "fpr_dna, tpr_dna, roc_auc_dna = get_roc_data(y_prob_dna[:,1], y_val)"
   ],
   "metadata": {
    "collapsed": false
   }
  },
  {
   "cell_type": "code",
   "execution_count": 11,
   "outputs": [],
   "source": [
    "perc_dna, perc_values_dna, num_goals_dna = get_percentile_goal_chance(y_prob_dna[:,1], y_val)\n",
    "cum_values_dna = np.cumsum(num_goals_dna)\n",
    "sum = np.sum(num_goals_dna)/100\n",
    "cum_values_dna = [i/sum for i in cum_values_dna]"
   ],
   "metadata": {
    "collapsed": false
   }
  },
  {
   "cell_type": "code",
   "execution_count": 12,
   "outputs": [],
   "source": [
    "exp.log_metric(\"roc\", roc_auc_dna)"
   ],
   "metadata": {
    "collapsed": false
   }
  },
  {
   "cell_type": "code",
   "execution_count": 1,
   "outputs": [
    {
     "ename": "NameError",
     "evalue": "name 'exp' is not defined",
     "output_type": "error",
     "traceback": [
      "\u001B[1;31m---------------------------------------------------------------------------\u001B[0m",
      "\u001B[1;31mNameError\u001B[0m                                 Traceback (most recent call last)",
      "Cell \u001B[1;32mIn [1], line 1\u001B[0m\n\u001B[1;32m----> 1\u001B[0m exp\u001B[38;5;241m.\u001B[39mend()\n",
      "\u001B[1;31mNameError\u001B[0m: name 'exp' is not defined"
     ]
    }
   ],
   "source": [
    "exp.end()"
   ],
   "metadata": {
    "collapsed": false
   }
  },
  {
   "cell_type": "code",
   "execution_count": null,
   "outputs": [],
   "source": [],
   "metadata": {
    "collapsed": false
   }
  }
 ],
 "metadata": {
  "kernelspec": {
   "display_name": "Python 3",
   "language": "python",
   "name": "python3"
  },
  "language_info": {
   "codemirror_mode": {
    "name": "ipython",
    "version": 2
   },
   "file_extension": ".py",
   "mimetype": "text/x-python",
   "name": "python",
   "nbconvert_exporter": "python",
   "pygments_lexer": "ipython2",
   "version": "2.7.6"
  }
 },
 "nbformat": 4,
 "nbformat_minor": 0
}
