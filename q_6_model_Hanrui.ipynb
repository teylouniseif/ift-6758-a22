{
 "cells": [
  {
   "cell_type": "code",
   "execution_count": 1,
   "metadata": {},
   "outputs": [],
   "source": [
    "import matplotlib.pyplot as plt\n",
    "from milestone1.question4 import *\n",
    "from etape2_Q3 import *\n",
    "import numpy as np\n",
    "from sklearn.calibration import CalibrationDisplay\n",
    "from matplotlib.gridspec import GridSpec"
   ]
  },
  {
   "cell_type": "code",
   "execution_count": 2,
   "metadata": {},
   "outputs": [],
   "source": [
    "directory2015 = r'data_saved/play_by_play/2015/regular'\n",
    "directory2016 = r'data_saved/play_by_play/2016/regular'\n",
    "directory2017 = r'data_saved/play_by_play/2017/regular'\n",
    "directory2018 = r'data_saved/play_by_play/2018/regular'"
   ]
  },
  {
   "cell_type": "code",
   "execution_count": 3,
   "metadata": {},
   "outputs": [],
   "source": [
    "df2015 = create_full_df(directory2015)\n",
    "df2016 = create_full_df(directory2016)\n",
    "df2017 = create_full_df(directory2017)\n",
    "df2018 = create_full_df(directory2018)"
   ]
  },
  {
   "cell_type": "code",
   "execution_count": 4,
   "metadata": {},
   "outputs": [],
   "source": [
    "df_train = pd.concat([df2015, df2016, df2017], ignore_index=True)\n",
    "df_val = df2018\n",
    "# df_train = df_train.dropna(subset=\"Distance\")\n",
    "# df_val = df_val.dropna(subset=\"Distance\")"
   ]
  },
  {
   "cell_type": "code",
   "execution_count": 5,
   "metadata": {},
   "outputs": [],
   "source": [
    "X_train = df_train[['Secondes_jeu','Period_Number','X_Coordinate','Y_Coordinate','Distance','Angle','Filet_vide','Last_event_type'\n",
    ",'X_last_event','Y_last_event','Sec_from_lastEvent','Dis_from_lastEvent','Rebond','Angle_change','Vitesse']]\n",
    "y_train = df_train[\"Est_un_but\"]\n",
    "\n",
    "X_val = df_val[['Secondes_jeu','Period_Number','X_Coordinate','Y_Coordinate','Distance','Angle','Filet_vide','Last_event_type'\n",
    ",'X_last_event','Y_last_event','Sec_from_lastEvent','Dis_from_lastEvent','Rebond','Angle_change','Vitesse']]\n",
    "y_val = df_val[\"Est_un_but\"]\n",
    "\n",
    "#creer une dictionnaire pour transformer les events en event_id, car le model ne peut pas etre entraine sur les donnees str\n",
    "dict_event_id = {'Unknown': 1, 'Faceoff': 2, 'Hit': 3,'Giveaway': 4, 'Goal': 5, 'Shot': 6,'Missed Shot': 7, 'Penalty': 8, 'Stoppage': 9,\n",
    "'Sub': 10, 'Fight': 11, 'Takeaway': 12, 'Blocked Shot': 13, 'Period Start': 14,'Period End': 15, 'Game End': 16, 'Game Scheduled': 17,\n",
    "'Period Ready': 18, 'Period Official': 19, 'Shootout Complete': 20 ,'Early Intermission Start': 21, 'Early Intermission End': 22, 'Game Official': 23,\n",
    "'Official Challenge': 24, 'Emergency Goaltender': 25, 'Failed Shot Attempt': 26}\n",
    "\n",
    "#triatement les nan, les nans sont changee par 0\n",
    "X_train = X_train.fillna(0)\n",
    "X_val = X_val.fillna(0)\n",
    "\n",
    "#transformer les events en event_id\n",
    "X_train['Last_event_type'] = X_train['Last_event_type'].apply(lambda x : dict_event_id[x])\n",
    "X_val['Last_event_type'] = X_val['Last_event_type'].apply(lambda x : dict_event_id[x])\n",
    "\n",
    "\n"
   ]
  },
  {
   "cell_type": "code",
   "execution_count": 6,
   "metadata": {},
   "outputs": [
    {
     "name": "stdout",
     "output_type": "stream",
     "text": [
      "accuracy:  0.9034430392352121\n"
     ]
    },
    {
     "name": "stderr",
     "output_type": "stream",
     "text": [
      "/Library/Frameworks/Python.framework/Versions/3.9/lib/python3.9/site-packages/sklearn/linear_model/_logistic.py:444: ConvergenceWarning: lbfgs failed to converge (status=1):\n",
      "STOP: TOTAL NO. of ITERATIONS REACHED LIMIT.\n",
      "\n",
      "Increase the number of iterations (max_iter) or scale the data as shown in:\n",
      "    https://scikit-learn.org/stable/modules/preprocessing.html\n",
      "Please also refer to the documentation for alternative solver options:\n",
      "    https://scikit-learn.org/stable/modules/linear_model.html#logistic-regression\n",
      "  n_iter_i = _check_optimize_result(\n"
     ]
    }
   ],
   "source": [
    "from sklearn.linear_model import LogisticRegression\n",
    "clf = LogisticRegression()\n",
    "\n",
    "clf.fit(X_train,y_train)\n",
    "y_prob = clf.predict_proba(X_val)\n",
    "score = clf.score(X_val, y_val)\n",
    "print(\"accuracy: \",score)\n",
    "\n"
   ]
  },
  {
   "cell_type": "code",
   "execution_count": 18,
   "metadata": {},
   "outputs": [],
   "source": [
    "from sklearn import svm\n",
    "\n",
    "clf = svm.SVC(probability=True)\n",
    "clf.fit(X_train, y_train)\n",
    "y_prob = clf.predict_proba(X_val)\n",
    "score = clf.score(X_val, y_val)\n"
   ]
  }
 ],
 "metadata": {
  "kernelspec": {
   "display_name": "Python 3.9.10 64-bit",
   "language": "python",
   "name": "python3"
  },
  "language_info": {
   "codemirror_mode": {
    "name": "ipython",
    "version": 3
   },
   "file_extension": ".py",
   "mimetype": "text/x-python",
   "name": "python",
   "nbconvert_exporter": "python",
   "pygments_lexer": "ipython3",
   "version": "3.9.10"
  },
  "orig_nbformat": 4,
  "vscode": {
   "interpreter": {
    "hash": "aee8b7b246df8f9039afb4144a1f6fd8d2ca17a180786b69acc140d282b71a49"
   }
  }
 },
 "nbformat": 4,
 "nbformat_minor": 2
}
